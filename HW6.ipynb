{
 "cells": [
  {
   "cell_type": "markdown",
   "metadata": {},
   "source": [
    "# Part I"
   ]
  },
  {
   "cell_type": "markdown",
   "metadata": {},
   "source": [
    "In class, we talked about the loss functions (also called the objective functions) for LASSO and Ridge regression. Write a function penalty that takes in a list of coefficients (coefs) and calculates the penalty term for LASSO when the argument lasso = True, and for Ridge when lasso = False.\n",
    "\n",
    "The penalty terms for LASSO and Ridge are listed below (K is the number of coefficients):\n",
    "\n",
    "LASSO: $\\alpha \\sum_j^K|\\beta_j|$\n",
    "\n",
    "Ridge: $\\alpha \\sum_j^K\\beta_j^2$\n",
    "\n",
    "Note: for computational reasons, computer programs often use slightly different objective/loss functions. But the simple ones we're using here still effectively communicate the ideas behind Ridge and Lasso"
   ]
  },
  {
   "cell_type": "code",
   "execution_count": 15,
   "metadata": {},
   "outputs": [],
   "source": [
    "def penalty(alpha = 0.01,coefs = [1,1,1], lasso = True):\n",
    "    coefslist = []\n",
    "    if lasso == True:\n",
    "        for i in coefs:\n",
    "            coef_new = i*i\n",
    "            coefslist.append(coef_new)\n",
    "        coefs_final = sum(coefslist)\n",
    "        answer = alpha * coefs_final\n",
    "    if lasso == False:\n",
    "        for i in coefs:\n",
    "            coef_new = abs(i)\n",
    "            coefslist.append(coef_new)\n",
    "        coefs_final = sum(coefslist)\n",
    "        answer = alpha * coefs_final\n",
    "    return answer\n",
    "    pass"
   ]
  },
  {
   "cell_type": "code",
   "execution_count": 16,
   "metadata": {},
   "outputs": [
    {
     "data": {
      "text/plain": [
       "21"
      ]
     },
     "execution_count": 16,
     "metadata": {},
     "output_type": "execute_result"
    }
   ],
   "source": [
    "penalty(alpha = 1, coefs = [1,2,3,4,5,6], lasso = False)"
   ]
  },
  {
   "cell_type": "code",
   "execution_count": 17,
   "metadata": {},
   "outputs": [
    {
     "data": {
      "text/plain": [
       "91"
      ]
     },
     "execution_count": 17,
     "metadata": {},
     "output_type": "execute_result"
    }
   ],
   "source": [
    "penalty(alpha = 1, coefs = [1,2,3,4,5,6], lasso = True)"
   ]
  },
  {
   "cell_type": "code",
   "execution_count": null,
   "metadata": {},
   "outputs": [],
   "source": [
    "# Check your work\n",
    "penalty(alpha = 1, coefs = [1,2,3,4,5,6], lasso = False) == 21\n",
    "penalty(alpha = 1, coefs = [1,2,3,4,5,6], lasso = True)== 91"
   ]
  },
  {
   "cell_type": "markdown",
   "metadata": {},
   "source": [
    "# Part II"
   ]
  },
  {
   "cell_type": "markdown",
   "metadata": {},
   "source": [
    "Below are two simulated data sets, related and unrelated. related has relationships/correlations between the variables. unrelated does not. Use PCA on these two simple data sets (variables are ALREADY standardized), make a scree plot for each data set and compare the amount of variance accounted for by the first Principal Components. In words, explain why you think they're different.\n"
   ]
  },
  {
   "cell_type": "markdown",
   "metadata": {},
   "source": [
    "In the unrelated variables dataset, the scree plot is pretty much linear rather than exponential because the variables aren't related, so there isn't one principle component that does a really good job of explaining the data.\n",
    "In the related variables dataset, the scree plot is exponential which shows that the first component does a really good job of explaining variation in the data, and the components after that don't do as good of a job."
   ]
  },
  {
   "cell_type": "code",
   "execution_count": 19,
   "metadata": {},
   "outputs": [],
   "source": [
    "import pandas as pd\n",
    "from plotnine import *\n",
    "from sklearn.decomposition import PCA"
   ]
  },
  {
   "cell_type": "code",
   "execution_count": 20,
   "metadata": {},
   "outputs": [],
   "source": [
    "unrelated = pd.read_csv(\"https://raw.githubusercontent.com/cmparlettpelleriti/CPSC392ParlettPelleriti/master/Data/unrelated.csv\")\n",
    "related = pd.read_csv(\"https://raw.githubusercontent.com/cmparlettpelleriti/CPSC392ParlettPelleriti/master/Data/related.csv\")"
   ]
  },
  {
   "cell_type": "code",
   "execution_count": 21,
   "metadata": {},
   "outputs": [
    {
     "data": {
      "text/html": [
       "<div>\n",
       "<style scoped>\n",
       "    .dataframe tbody tr th:only-of-type {\n",
       "        vertical-align: middle;\n",
       "    }\n",
       "\n",
       "    .dataframe tbody tr th {\n",
       "        vertical-align: top;\n",
       "    }\n",
       "\n",
       "    .dataframe thead th {\n",
       "        text-align: right;\n",
       "    }\n",
       "</style>\n",
       "<table border=\"1\" class=\"dataframe\">\n",
       "  <thead>\n",
       "    <tr style=\"text-align: right;\">\n",
       "      <th></th>\n",
       "      <th>V1</th>\n",
       "      <th>V2</th>\n",
       "      <th>V3</th>\n",
       "      <th>V4</th>\n",
       "      <th>V5</th>\n",
       "      <th>V6</th>\n",
       "      <th>V7</th>\n",
       "      <th>V8</th>\n",
       "      <th>V9</th>\n",
       "      <th>V10</th>\n",
       "    </tr>\n",
       "  </thead>\n",
       "  <tbody>\n",
       "    <tr>\n",
       "      <td>0</td>\n",
       "      <td>-1.648512</td>\n",
       "      <td>-0.311947</td>\n",
       "      <td>0.709889</td>\n",
       "      <td>-0.450921</td>\n",
       "      <td>0.078148</td>\n",
       "      <td>1.647467</td>\n",
       "      <td>1.261174</td>\n",
       "      <td>0.409624</td>\n",
       "      <td>-1.088260</td>\n",
       "      <td>-0.522964</td>\n",
       "    </tr>\n",
       "    <tr>\n",
       "      <td>1</td>\n",
       "      <td>2.322691</td>\n",
       "      <td>0.166211</td>\n",
       "      <td>1.979451</td>\n",
       "      <td>-0.389167</td>\n",
       "      <td>-0.361379</td>\n",
       "      <td>-0.897038</td>\n",
       "      <td>-0.887620</td>\n",
       "      <td>0.821673</td>\n",
       "      <td>-0.035624</td>\n",
       "      <td>0.720553</td>\n",
       "    </tr>\n",
       "    <tr>\n",
       "      <td>2</td>\n",
       "      <td>-0.136621</td>\n",
       "      <td>-1.255330</td>\n",
       "      <td>0.896551</td>\n",
       "      <td>-0.777137</td>\n",
       "      <td>0.229754</td>\n",
       "      <td>1.190060</td>\n",
       "      <td>0.160624</td>\n",
       "      <td>-0.440312</td>\n",
       "      <td>1.016557</td>\n",
       "      <td>0.788108</td>\n",
       "    </tr>\n",
       "    <tr>\n",
       "      <td>3</td>\n",
       "      <td>-0.392706</td>\n",
       "      <td>0.572386</td>\n",
       "      <td>-0.309853</td>\n",
       "      <td>-0.582313</td>\n",
       "      <td>0.352875</td>\n",
       "      <td>-0.656241</td>\n",
       "      <td>-0.613229</td>\n",
       "      <td>0.581652</td>\n",
       "      <td>-0.907961</td>\n",
       "      <td>-0.885951</td>\n",
       "    </tr>\n",
       "    <tr>\n",
       "      <td>4</td>\n",
       "      <td>-0.380287</td>\n",
       "      <td>1.629653</td>\n",
       "      <td>0.935198</td>\n",
       "      <td>0.327958</td>\n",
       "      <td>-1.474270</td>\n",
       "      <td>0.813000</td>\n",
       "      <td>1.493190</td>\n",
       "      <td>0.691941</td>\n",
       "      <td>1.016842</td>\n",
       "      <td>0.319527</td>\n",
       "    </tr>\n",
       "  </tbody>\n",
       "</table>\n",
       "</div>"
      ],
      "text/plain": [
       "         V1        V2        V3        V4        V5        V6        V7  \\\n",
       "0 -1.648512 -0.311947  0.709889 -0.450921  0.078148  1.647467  1.261174   \n",
       "1  2.322691  0.166211  1.979451 -0.389167 -0.361379 -0.897038 -0.887620   \n",
       "2 -0.136621 -1.255330  0.896551 -0.777137  0.229754  1.190060  0.160624   \n",
       "3 -0.392706  0.572386 -0.309853 -0.582313  0.352875 -0.656241 -0.613229   \n",
       "4 -0.380287  1.629653  0.935198  0.327958 -1.474270  0.813000  1.493190   \n",
       "\n",
       "         V8        V9       V10  \n",
       "0  0.409624 -1.088260 -0.522964  \n",
       "1  0.821673 -0.035624  0.720553  \n",
       "2 -0.440312  1.016557  0.788108  \n",
       "3  0.581652 -0.907961 -0.885951  \n",
       "4  0.691941  1.016842  0.319527  "
      ]
     },
     "execution_count": 21,
     "metadata": {},
     "output_type": "execute_result"
    }
   ],
   "source": [
    "unrelated.head()"
   ]
  },
  {
   "cell_type": "code",
   "execution_count": 22,
   "metadata": {},
   "outputs": [
    {
     "data": {
      "text/plain": [
       "PCA(copy=True, iterated_power='auto', n_components=None, random_state=None,\n",
       "    svd_solver='auto', tol=0.0, whiten=False)"
      ]
     },
     "execution_count": 22,
     "metadata": {},
     "output_type": "execute_result"
    }
   ],
   "source": [
    "features = unrelated.columns[1:10] \n",
    "pca = PCA()\n",
    "pca.fit(unrelated[features])"
   ]
  },
  {
   "cell_type": "code",
   "execution_count": 23,
   "metadata": {},
   "outputs": [
    {
     "data": {
      "text/html": [
       "<div>\n",
       "<style scoped>\n",
       "    .dataframe tbody tr th:only-of-type {\n",
       "        vertical-align: middle;\n",
       "    }\n",
       "\n",
       "    .dataframe tbody tr th {\n",
       "        vertical-align: top;\n",
       "    }\n",
       "\n",
       "    .dataframe thead th {\n",
       "        text-align: right;\n",
       "    }\n",
       "</style>\n",
       "<table border=\"1\" class=\"dataframe\">\n",
       "  <thead>\n",
       "    <tr style=\"text-align: right;\">\n",
       "      <th></th>\n",
       "      <th>expl_var</th>\n",
       "      <th>pc</th>\n",
       "      <th>cum_var</th>\n",
       "    </tr>\n",
       "  </thead>\n",
       "  <tbody>\n",
       "    <tr>\n",
       "      <td>0</td>\n",
       "      <td>0.131769</td>\n",
       "      <td>1</td>\n",
       "      <td>0.131769</td>\n",
       "    </tr>\n",
       "    <tr>\n",
       "      <td>1</td>\n",
       "      <td>0.125279</td>\n",
       "      <td>2</td>\n",
       "      <td>0.257048</td>\n",
       "    </tr>\n",
       "    <tr>\n",
       "      <td>2</td>\n",
       "      <td>0.118632</td>\n",
       "      <td>3</td>\n",
       "      <td>0.375680</td>\n",
       "    </tr>\n",
       "    <tr>\n",
       "      <td>3</td>\n",
       "      <td>0.117665</td>\n",
       "      <td>4</td>\n",
       "      <td>0.493345</td>\n",
       "    </tr>\n",
       "    <tr>\n",
       "      <td>4</td>\n",
       "      <td>0.107701</td>\n",
       "      <td>5</td>\n",
       "      <td>0.601045</td>\n",
       "    </tr>\n",
       "  </tbody>\n",
       "</table>\n",
       "</div>"
      ],
      "text/plain": [
       "   expl_var  pc   cum_var\n",
       "0  0.131769   1  0.131769\n",
       "1  0.125279   2  0.257048\n",
       "2  0.118632   3  0.375680\n",
       "3  0.117665   4  0.493345\n",
       "4  0.107701   5  0.601045"
      ]
     },
     "execution_count": 23,
     "metadata": {},
     "output_type": "execute_result"
    }
   ],
   "source": [
    "pcaDF = pd.DataFrame({\"expl_var\" : pca.explained_variance_ratio_, \"pc\": range(1,10), \"cum_var\": pca.explained_variance_ratio_.cumsum()})\n",
    "pcaDF.head()"
   ]
  },
  {
   "cell_type": "code",
   "execution_count": 24,
   "metadata": {},
   "outputs": [
    {
     "data": {
      "image/png": "[encoded data removed]",
      "text/plain": [
       "<Figure size 640x480 with 1 Axes>"
      ]
     },
     "metadata": {},
     "output_type": "display_data"
    },
    {
     "data": {
      "text/plain": [
       "<ggplot: (304463797)>"
      ]
     },
     "execution_count": 24,
     "metadata": {},
     "output_type": "execute_result"
    }
   ],
   "source": [
    "(ggplot(pcaDF, aes(x = \"pc\", y = \"expl_var\")) + geom_line() + geom_point())"
   ]
  },
  {
   "cell_type": "code",
   "execution_count": 26,
   "metadata": {},
   "outputs": [
    {
     "data": {
      "text/html": [
       "<div>\n",
       "<style scoped>\n",
       "    .dataframe tbody tr th:only-of-type {\n",
       "        vertical-align: middle;\n",
       "    }\n",
       "\n",
       "    .dataframe tbody tr th {\n",
       "        vertical-align: top;\n",
       "    }\n",
       "\n",
       "    .dataframe thead th {\n",
       "        text-align: right;\n",
       "    }\n",
       "</style>\n",
       "<table border=\"1\" class=\"dataframe\">\n",
       "  <thead>\n",
       "    <tr style=\"text-align: right;\">\n",
       "      <th></th>\n",
       "      <th>V1</th>\n",
       "      <th>V2</th>\n",
       "      <th>V3</th>\n",
       "      <th>V4</th>\n",
       "      <th>V5</th>\n",
       "      <th>V6</th>\n",
       "      <th>V7</th>\n",
       "      <th>V8</th>\n",
       "      <th>V9</th>\n",
       "      <th>V10</th>\n",
       "    </tr>\n",
       "  </thead>\n",
       "  <tbody>\n",
       "    <tr>\n",
       "      <td>0</td>\n",
       "      <td>-0.162819</td>\n",
       "      <td>-1.571162</td>\n",
       "      <td>-1.151371</td>\n",
       "      <td>-0.315459</td>\n",
       "      <td>-1.391184</td>\n",
       "      <td>-1.003480</td>\n",
       "      <td>-1.115696</td>\n",
       "      <td>-1.066398</td>\n",
       "      <td>-1.403418</td>\n",
       "      <td>-1.887823</td>\n",
       "    </tr>\n",
       "    <tr>\n",
       "      <td>1</td>\n",
       "      <td>-0.096220</td>\n",
       "      <td>0.657607</td>\n",
       "      <td>0.548894</td>\n",
       "      <td>-0.166629</td>\n",
       "      <td>0.815083</td>\n",
       "      <td>1.103737</td>\n",
       "      <td>0.464634</td>\n",
       "      <td>0.523476</td>\n",
       "      <td>1.351986</td>\n",
       "      <td>0.393608</td>\n",
       "    </tr>\n",
       "    <tr>\n",
       "      <td>2</td>\n",
       "      <td>0.667393</td>\n",
       "      <td>-0.210511</td>\n",
       "      <td>-0.371827</td>\n",
       "      <td>-0.738546</td>\n",
       "      <td>-0.335431</td>\n",
       "      <td>-0.836773</td>\n",
       "      <td>-0.814206</td>\n",
       "      <td>-1.380620</td>\n",
       "      <td>0.095171</td>\n",
       "      <td>0.223744</td>\n",
       "    </tr>\n",
       "    <tr>\n",
       "      <td>3</td>\n",
       "      <td>1.810516</td>\n",
       "      <td>1.450446</td>\n",
       "      <td>1.944058</td>\n",
       "      <td>1.178601</td>\n",
       "      <td>1.337714</td>\n",
       "      <td>2.193921</td>\n",
       "      <td>0.857411</td>\n",
       "      <td>0.366791</td>\n",
       "      <td>1.491955</td>\n",
       "      <td>2.181504</td>\n",
       "    </tr>\n",
       "    <tr>\n",
       "      <td>4</td>\n",
       "      <td>-0.109431</td>\n",
       "      <td>-0.581918</td>\n",
       "      <td>-1.065343</td>\n",
       "      <td>-0.402842</td>\n",
       "      <td>-1.540439</td>\n",
       "      <td>-1.179681</td>\n",
       "      <td>-1.086468</td>\n",
       "      <td>-0.150108</td>\n",
       "      <td>-0.994551</td>\n",
       "      <td>-1.437609</td>\n",
       "    </tr>\n",
       "  </tbody>\n",
       "</table>\n",
       "</div>"
      ],
      "text/plain": [
       "         V1        V2        V3        V4        V5        V6        V7  \\\n",
       "0 -0.162819 -1.571162 -1.151371 -0.315459 -1.391184 -1.003480 -1.115696   \n",
       "1 -0.096220  0.657607  0.548894 -0.166629  0.815083  1.103737  0.464634   \n",
       "2  0.667393 -0.210511 -0.371827 -0.738546 -0.335431 -0.836773 -0.814206   \n",
       "3  1.810516  1.450446  1.944058  1.178601  1.337714  2.193921  0.857411   \n",
       "4 -0.109431 -0.581918 -1.065343 -0.402842 -1.540439 -1.179681 -1.086468   \n",
       "\n",
       "         V8        V9       V10  \n",
       "0 -1.066398 -1.403418 -1.887823  \n",
       "1  0.523476  1.351986  0.393608  \n",
       "2 -1.380620  0.095171  0.223744  \n",
       "3  0.366791  1.491955  2.181504  \n",
       "4 -0.150108 -0.994551 -1.437609  "
      ]
     },
     "execution_count": 26,
     "metadata": {},
     "output_type": "execute_result"
    }
   ],
   "source": [
    "related.head()"
   ]
  },
  {
   "cell_type": "code",
   "execution_count": 27,
   "metadata": {},
   "outputs": [
    {
     "data": {
      "text/plain": [
       "PCA(copy=True, iterated_power='auto', n_components=None, random_state=None,\n",
       "    svd_solver='auto', tol=0.0, whiten=False)"
      ]
     },
     "execution_count": 27,
     "metadata": {},
     "output_type": "execute_result"
    }
   ],
   "source": [
    "features2 = related.columns[1:10] \n",
    "pca2 = PCA()\n",
    "pca2.fit(related[features2])"
   ]
  },
  {
   "cell_type": "code",
   "execution_count": 28,
   "metadata": {},
   "outputs": [
    {
     "data": {
      "text/html": [
       "<div>\n",
       "<style scoped>\n",
       "    .dataframe tbody tr th:only-of-type {\n",
       "        vertical-align: middle;\n",
       "    }\n",
       "\n",
       "    .dataframe tbody tr th {\n",
       "        vertical-align: top;\n",
       "    }\n",
       "\n",
       "    .dataframe thead th {\n",
       "        text-align: right;\n",
       "    }\n",
       "</style>\n",
       "<table border=\"1\" class=\"dataframe\">\n",
       "  <thead>\n",
       "    <tr style=\"text-align: right;\">\n",
       "      <th></th>\n",
       "      <th>expl_var</th>\n",
       "      <th>pc</th>\n",
       "      <th>cum_var</th>\n",
       "    </tr>\n",
       "  </thead>\n",
       "  <tbody>\n",
       "    <tr>\n",
       "      <td>0</td>\n",
       "      <td>0.752052</td>\n",
       "      <td>1</td>\n",
       "      <td>0.131769</td>\n",
       "    </tr>\n",
       "    <tr>\n",
       "      <td>1</td>\n",
       "      <td>0.037199</td>\n",
       "      <td>2</td>\n",
       "      <td>0.257048</td>\n",
       "    </tr>\n",
       "    <tr>\n",
       "      <td>2</td>\n",
       "      <td>0.034878</td>\n",
       "      <td>3</td>\n",
       "      <td>0.375680</td>\n",
       "    </tr>\n",
       "    <tr>\n",
       "      <td>3</td>\n",
       "      <td>0.032425</td>\n",
       "      <td>4</td>\n",
       "      <td>0.493345</td>\n",
       "    </tr>\n",
       "    <tr>\n",
       "      <td>4</td>\n",
       "      <td>0.031428</td>\n",
       "      <td>5</td>\n",
       "      <td>0.601045</td>\n",
       "    </tr>\n",
       "  </tbody>\n",
       "</table>\n",
       "</div>"
      ],
      "text/plain": [
       "   expl_var  pc   cum_var\n",
       "0  0.752052   1  0.131769\n",
       "1  0.037199   2  0.257048\n",
       "2  0.034878   3  0.375680\n",
       "3  0.032425   4  0.493345\n",
       "4  0.031428   5  0.601045"
      ]
     },
     "execution_count": 28,
     "metadata": {},
     "output_type": "execute_result"
    }
   ],
   "source": [
    "pcaDF2 = pd.DataFrame({\"expl_var\" : pca2.explained_variance_ratio_, \"pc\": range(1,10), \"cum_var\": pca.explained_variance_ratio_.cumsum()})\n",
    "pcaDF2.head()"
   ]
  },
  {
   "cell_type": "code",
   "execution_count": 29,
   "metadata": {},
   "outputs": [
    {
     "data": {
      "image/png": "[encoded data removed]",
      "text/plain": [
       "<Figure size 640x480 with 1 Axes>"
      ]
     },
     "metadata": {},
     "output_type": "display_data"
    },
    {
     "data": {
      "text/plain": [
       "<ggplot: (305965789)>"
      ]
     },
     "execution_count": 29,
     "metadata": {},
     "output_type": "execute_result"
    }
   ],
   "source": [
    "(ggplot(pcaDF2, aes(x = \"pc\", y = \"expl_var\")) + geom_line() + geom_point())"
   ]
  },
  {
   "cell_type": "code",
   "execution_count": null,
   "metadata": {},
   "outputs": [],
   "source": []
  },
  {
   "cell_type": "code",
   "execution_count": null,
   "metadata": {},
   "outputs": [],
   "source": []
  }
 ],
 "metadata": {
  "kernelspec": {
   "display_name": "Python 3",
   "language": "python",
   "name": "python3"
  },
  "language_info": {
   "codemirror_mode": {
    "name": "ipython",
    "version": 3
   },
   "file_extension": ".py",
   "mimetype": "text/x-python",
   "name": "python",
   "nbconvert_exporter": "python",
   "pygments_lexer": "ipython3",
   "version": "3.7.4"
  }
 },
 "nbformat": 4,
 "nbformat_minor": 2
}
