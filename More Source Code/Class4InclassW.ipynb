{
 "cells": [
  {
   "cell_type": "code",
   "execution_count": 15,
   "metadata": {},
   "outputs": [],
   "source": [
    "import warnings\n",
    "warnings.filterwarnings('ignore')\n",
    "\n",
    "\n",
    "import pandas as pd\n",
    "import numpy as np\n",
    "from plotnine import *\n",
    "import statsmodels.api as sm\n",
    "\n",
    "from sklearn.linear_model import LinearRegression # Linear Regression Model\n",
    "from sklearn.preprocessing import StandardScaler #Z-score variables\n",
    "from sklearn.metrics import mean_squared_error, r2_score #model evaluation\n",
    "\n",
    "from sklearn.model_selection import train_test_split # simple TT split cv\n",
    "from sklearn.model_selection import KFold # k-fold cv\n",
    "from sklearn.model_selection import LeaveOneOut #LOO cv\n",
    "from sklearn.model_selection import cross_val_score # cross validation metrics\n",
    "from sklearn.model_selection import cross_val_predict # cross validation metrics\n",
    "\n",
    "%matplotlib inline"
   ]
  },
  {
   "cell_type": "markdown",
   "metadata": {},
   "source": [
    "\n",
    "Do right footed players weigh more than right footed players? Use ggplot/plotnine to make a graph to answer this question.\n",
    "\n",
    "Is there a difference in height between the clubs Chelsea and Manchester United? Use ggplot/plotnine to make a graph to answer this question."
   ]
  },
  {
   "cell_type": "markdown",
   "metadata": {},
   "source": [
    "Load the necessary libraries (pandas, plotnine)\n"
   ]
  },
  {
   "cell_type": "code",
   "execution_count": 16,
   "metadata": {},
   "outputs": [],
   "source": [
    "data = pd.read_csv(\"https://raw.githubusercontent.com/cmparlettpelleriti/CPSC392ParlettPelleriti/master/Data/players_15.csv\")"
   ]
  },
  {
   "cell_type": "code",
   "execution_count": 17,
   "metadata": {},
   "outputs": [],
   "source": [
    "Fifa = pd.DataFrame(data)"
   ]
  },
  {
   "cell_type": "code",
   "execution_count": 23,
   "metadata": {},
   "outputs": [
    {
     "data": {
      "text/plain": [
       "Index(['sofifa_id', 'player_url', 'short_name', 'long_name', 'age', 'dob',\n",
       "       'height_cm', 'weight_kg', 'nationality', 'club',\n",
       "       ...\n",
       "       'lwb', 'ldm', 'cdm', 'rdm', 'rwb', 'lb', 'lcb', 'cb', 'rcb', 'rb'],\n",
       "      dtype='object', length=104)"
      ]
     },
     "execution_count": 23,
     "metadata": {},
     "output_type": "execute_result"
    }
   ],
   "source": [
    "Fifa.columns"
   ]
  },
  {
   "cell_type": "markdown",
   "metadata": {},
   "source": [
    "Create a summary of the data."
   ]
  },
  {
   "cell_type": "code",
   "execution_count": 18,
   "metadata": {},
   "outputs": [
    {
     "data": {
      "text/html": [
       "<div>\n",
       "<style scoped>\n",
       "    .dataframe tbody tr th:only-of-type {\n",
       "        vertical-align: middle;\n",
       "    }\n",
       "\n",
       "    .dataframe tbody tr th {\n",
       "        vertical-align: top;\n",
       "    }\n",
       "\n",
       "    .dataframe thead th {\n",
       "        text-align: right;\n",
       "    }\n",
       "</style>\n",
       "<table border=\"1\" class=\"dataframe\">\n",
       "  <thead>\n",
       "    <tr style=\"text-align: right;\">\n",
       "      <th></th>\n",
       "      <th>sofifa_id</th>\n",
       "      <th>age</th>\n",
       "      <th>height_cm</th>\n",
       "      <th>weight_kg</th>\n",
       "      <th>overall</th>\n",
       "      <th>potential</th>\n",
       "      <th>value_eur</th>\n",
       "      <th>wage_eur</th>\n",
       "      <th>international_reputation</th>\n",
       "      <th>weak_foot</th>\n",
       "      <th>...</th>\n",
       "      <th>dribbling</th>\n",
       "      <th>defending</th>\n",
       "      <th>physic</th>\n",
       "      <th>gk_diving</th>\n",
       "      <th>gk_handling</th>\n",
       "      <th>gk_kicking</th>\n",
       "      <th>gk_reflexes</th>\n",
       "      <th>gk_speed</th>\n",
       "      <th>gk_positioning</th>\n",
       "      <th>mentality_composure</th>\n",
       "    </tr>\n",
       "  </thead>\n",
       "  <tbody>\n",
       "    <tr>\n",
       "      <td>count</td>\n",
       "      <td>15465.000000</td>\n",
       "      <td>15465.000000</td>\n",
       "      <td>15465.000000</td>\n",
       "      <td>15465.000000</td>\n",
       "      <td>15465.000000</td>\n",
       "      <td>15465.000000</td>\n",
       "      <td>15465.0</td>\n",
       "      <td>15465.0</td>\n",
       "      <td>15465.000000</td>\n",
       "      <td>15465.000000</td>\n",
       "      <td>...</td>\n",
       "      <td>13762.000000</td>\n",
       "      <td>13762.000000</td>\n",
       "      <td>13762.000000</td>\n",
       "      <td>1703.000000</td>\n",
       "      <td>1703.000000</td>\n",
       "      <td>1703.000000</td>\n",
       "      <td>1703.000000</td>\n",
       "      <td>1703.000000</td>\n",
       "      <td>1703.000000</td>\n",
       "      <td>0.0</td>\n",
       "    </tr>\n",
       "    <tr>\n",
       "      <td>mean</td>\n",
       "      <td>189298.588425</td>\n",
       "      <td>24.763272</td>\n",
       "      <td>181.093631</td>\n",
       "      <td>75.482703</td>\n",
       "      <td>63.948594</td>\n",
       "      <td>68.483091</td>\n",
       "      <td>0.0</td>\n",
       "      <td>0.0</td>\n",
       "      <td>1.126350</td>\n",
       "      <td>2.932363</td>\n",
       "      <td>...</td>\n",
       "      <td>60.617861</td>\n",
       "      <td>50.000799</td>\n",
       "      <td>64.602456</td>\n",
       "      <td>64.709336</td>\n",
       "      <td>60.823840</td>\n",
       "      <td>59.455079</td>\n",
       "      <td>65.955373</td>\n",
       "      <td>43.900763</td>\n",
       "      <td>61.230182</td>\n",
       "      <td>NaN</td>\n",
       "    </tr>\n",
       "    <tr>\n",
       "      <td>std</td>\n",
       "      <td>39648.820272</td>\n",
       "      <td>4.624565</td>\n",
       "      <td>6.635182</td>\n",
       "      <td>6.907243</td>\n",
       "      <td>7.208610</td>\n",
       "      <td>6.611708</td>\n",
       "      <td>0.0</td>\n",
       "      <td>0.0</td>\n",
       "      <td>0.401362</td>\n",
       "      <td>0.652270</td>\n",
       "      <td>...</td>\n",
       "      <td>10.800142</td>\n",
       "      <td>15.850317</td>\n",
       "      <td>9.698882</td>\n",
       "      <td>7.855747</td>\n",
       "      <td>8.510626</td>\n",
       "      <td>8.689929</td>\n",
       "      <td>8.374343</td>\n",
       "      <td>8.440858</td>\n",
       "      <td>9.188257</td>\n",
       "      <td>NaN</td>\n",
       "    </tr>\n",
       "    <tr>\n",
       "      <td>min</td>\n",
       "      <td>2.000000</td>\n",
       "      <td>16.000000</td>\n",
       "      <td>155.000000</td>\n",
       "      <td>50.000000</td>\n",
       "      <td>40.000000</td>\n",
       "      <td>40.000000</td>\n",
       "      <td>0.0</td>\n",
       "      <td>0.0</td>\n",
       "      <td>1.000000</td>\n",
       "      <td>1.000000</td>\n",
       "      <td>...</td>\n",
       "      <td>25.000000</td>\n",
       "      <td>21.000000</td>\n",
       "      <td>28.000000</td>\n",
       "      <td>35.000000</td>\n",
       "      <td>36.000000</td>\n",
       "      <td>21.000000</td>\n",
       "      <td>31.000000</td>\n",
       "      <td>20.000000</td>\n",
       "      <td>38.000000</td>\n",
       "      <td>NaN</td>\n",
       "    </tr>\n",
       "    <tr>\n",
       "      <td>25%</td>\n",
       "      <td>178043.000000</td>\n",
       "      <td>21.000000</td>\n",
       "      <td>176.000000</td>\n",
       "      <td>70.000000</td>\n",
       "      <td>59.000000</td>\n",
       "      <td>64.000000</td>\n",
       "      <td>0.0</td>\n",
       "      <td>0.0</td>\n",
       "      <td>1.000000</td>\n",
       "      <td>3.000000</td>\n",
       "      <td>...</td>\n",
       "      <td>54.000000</td>\n",
       "      <td>33.000000</td>\n",
       "      <td>58.000000</td>\n",
       "      <td>59.000000</td>\n",
       "      <td>55.000000</td>\n",
       "      <td>53.000000</td>\n",
       "      <td>60.000000</td>\n",
       "      <td>39.000000</td>\n",
       "      <td>54.000000</td>\n",
       "      <td>NaN</td>\n",
       "    </tr>\n",
       "    <tr>\n",
       "      <td>50%</td>\n",
       "      <td>200844.000000</td>\n",
       "      <td>24.000000</td>\n",
       "      <td>181.000000</td>\n",
       "      <td>75.000000</td>\n",
       "      <td>64.000000</td>\n",
       "      <td>68.000000</td>\n",
       "      <td>0.0</td>\n",
       "      <td>0.0</td>\n",
       "      <td>1.000000</td>\n",
       "      <td>3.000000</td>\n",
       "      <td>...</td>\n",
       "      <td>62.000000</td>\n",
       "      <td>53.000000</td>\n",
       "      <td>66.000000</td>\n",
       "      <td>64.000000</td>\n",
       "      <td>61.000000</td>\n",
       "      <td>59.000000</td>\n",
       "      <td>65.000000</td>\n",
       "      <td>44.000000</td>\n",
       "      <td>61.000000</td>\n",
       "      <td>NaN</td>\n",
       "    </tr>\n",
       "    <tr>\n",
       "      <td>75%</td>\n",
       "      <td>214326.000000</td>\n",
       "      <td>28.000000</td>\n",
       "      <td>186.000000</td>\n",
       "      <td>80.000000</td>\n",
       "      <td>69.000000</td>\n",
       "      <td>73.000000</td>\n",
       "      <td>0.0</td>\n",
       "      <td>0.0</td>\n",
       "      <td>1.000000</td>\n",
       "      <td>3.000000</td>\n",
       "      <td>...</td>\n",
       "      <td>68.000000</td>\n",
       "      <td>63.000000</td>\n",
       "      <td>72.000000</td>\n",
       "      <td>70.000000</td>\n",
       "      <td>67.000000</td>\n",
       "      <td>65.000000</td>\n",
       "      <td>72.000000</td>\n",
       "      <td>49.000000</td>\n",
       "      <td>68.000000</td>\n",
       "      <td>NaN</td>\n",
       "    </tr>\n",
       "    <tr>\n",
       "      <td>max</td>\n",
       "      <td>225562.000000</td>\n",
       "      <td>44.000000</td>\n",
       "      <td>203.000000</td>\n",
       "      <td>110.000000</td>\n",
       "      <td>93.000000</td>\n",
       "      <td>95.000000</td>\n",
       "      <td>0.0</td>\n",
       "      <td>0.0</td>\n",
       "      <td>5.000000</td>\n",
       "      <td>5.000000</td>\n",
       "      <td>...</td>\n",
       "      <td>96.000000</td>\n",
       "      <td>90.000000</td>\n",
       "      <td>91.000000</td>\n",
       "      <td>88.000000</td>\n",
       "      <td>87.000000</td>\n",
       "      <td>92.000000</td>\n",
       "      <td>90.000000</td>\n",
       "      <td>66.000000</td>\n",
       "      <td>90.000000</td>\n",
       "      <td>NaN</td>\n",
       "    </tr>\n",
       "  </tbody>\n",
       "</table>\n",
       "<p>8 rows × 28 columns</p>\n",
       "</div>"
      ],
      "text/plain": [
       "           sofifa_id           age     height_cm     weight_kg       overall  \\\n",
       "count   15465.000000  15465.000000  15465.000000  15465.000000  15465.000000   \n",
       "mean   189298.588425     24.763272    181.093631     75.482703     63.948594   \n",
       "std     39648.820272      4.624565      6.635182      6.907243      7.208610   \n",
       "min         2.000000     16.000000    155.000000     50.000000     40.000000   \n",
       "25%    178043.000000     21.000000    176.000000     70.000000     59.000000   \n",
       "50%    200844.000000     24.000000    181.000000     75.000000     64.000000   \n",
       "75%    214326.000000     28.000000    186.000000     80.000000     69.000000   \n",
       "max    225562.000000     44.000000    203.000000    110.000000     93.000000   \n",
       "\n",
       "          potential  value_eur  wage_eur  international_reputation  \\\n",
       "count  15465.000000    15465.0   15465.0              15465.000000   \n",
       "mean      68.483091        0.0       0.0                  1.126350   \n",
       "std        6.611708        0.0       0.0                  0.401362   \n",
       "min       40.000000        0.0       0.0                  1.000000   \n",
       "25%       64.000000        0.0       0.0                  1.000000   \n",
       "50%       68.000000        0.0       0.0                  1.000000   \n",
       "75%       73.000000        0.0       0.0                  1.000000   \n",
       "max       95.000000        0.0       0.0                  5.000000   \n",
       "\n",
       "          weak_foot  ...     dribbling     defending        physic  \\\n",
       "count  15465.000000  ...  13762.000000  13762.000000  13762.000000   \n",
       "mean       2.932363  ...     60.617861     50.000799     64.602456   \n",
       "std        0.652270  ...     10.800142     15.850317      9.698882   \n",
       "min        1.000000  ...     25.000000     21.000000     28.000000   \n",
       "25%        3.000000  ...     54.000000     33.000000     58.000000   \n",
       "50%        3.000000  ...     62.000000     53.000000     66.000000   \n",
       "75%        3.000000  ...     68.000000     63.000000     72.000000   \n",
       "max        5.000000  ...     96.000000     90.000000     91.000000   \n",
       "\n",
       "         gk_diving  gk_handling   gk_kicking  gk_reflexes     gk_speed  \\\n",
       "count  1703.000000  1703.000000  1703.000000  1703.000000  1703.000000   \n",
       "mean     64.709336    60.823840    59.455079    65.955373    43.900763   \n",
       "std       7.855747     8.510626     8.689929     8.374343     8.440858   \n",
       "min      35.000000    36.000000    21.000000    31.000000    20.000000   \n",
       "25%      59.000000    55.000000    53.000000    60.000000    39.000000   \n",
       "50%      64.000000    61.000000    59.000000    65.000000    44.000000   \n",
       "75%      70.000000    67.000000    65.000000    72.000000    49.000000   \n",
       "max      88.000000    87.000000    92.000000    90.000000    66.000000   \n",
       "\n",
       "       gk_positioning  mentality_composure  \n",
       "count     1703.000000                  0.0  \n",
       "mean        61.230182                  NaN  \n",
       "std          9.188257                  NaN  \n",
       "min         38.000000                  NaN  \n",
       "25%         54.000000                  NaN  \n",
       "50%         61.000000                  NaN  \n",
       "75%         68.000000                  NaN  \n",
       "max         90.000000                  NaN  \n",
       "\n",
       "[8 rows x 28 columns]"
      ]
     },
     "execution_count": 18,
     "metadata": {},
     "output_type": "execute_result"
    }
   ],
   "source": [
    "Fifa.describe()"
   ]
  },
  {
   "cell_type": "markdown",
   "metadata": {},
   "source": [
    "How old is the average player in FIFA20? Plot a histogram of their ages."
   ]
  },
  {
   "cell_type": "code",
   "execution_count": 20,
   "metadata": {},
   "outputs": [
    {
     "data": {
      "image/png": "[encoded data removed]",
      "text/plain": [
       "<Figure size 640x480 with 1 Axes>"
      ]
     },
     "metadata": {},
     "output_type": "display_data"
    },
    {
     "data": {
      "text/plain": [
       "<ggplot: (301584993)>"
      ]
     },
     "execution_count": 20,
     "metadata": {},
     "output_type": "execute_result"
    }
   ],
   "source": [
    "# Average age of a player in FIFA20 = 24.7632\n",
    "(ggplot(Fifa, aes(\"age\"))\n",
    " + geom_histogram())"
   ]
  },
  {
   "cell_type": "markdown",
   "metadata": {},
   "source": [
    "Do right footed players weigh more than right footed players? Use ggplot/plotnine to make a graph to answer this question."
   ]
  },
  {
   "cell_type": "code",
   "execution_count": 22,
   "metadata": {},
   "outputs": [
    {
     "data": {
      "image/png": "[encoded data removed]",
      "text/plain": [
       "<Figure size 640x480 with 1 Axes>"
      ]
     },
     "metadata": {},
     "output_type": "display_data"
    },
    {
     "data": {
      "text/plain": [
       "<ggplot: (300618513)>"
      ]
     },
     "execution_count": 22,
     "metadata": {},
     "output_type": "execute_result"
    }
   ],
   "source": [
    "(ggplot(Fifa, aes(\"weight_kg\", fill = \"factor(weak_foot)\"))\n",
    " + geom_bar())"
   ]
  },
  {
   "cell_type": "code",
   "execution_count": null,
   "metadata": {},
   "outputs": [],
   "source": []
  }
 ],
 "metadata": {
  "kernelspec": {
   "display_name": "Python 3",
   "language": "python",
   "name": "python3"
  },
  "language_info": {
   "codemirror_mode": {
    "name": "ipython",
    "version": 3
   },
   "file_extension": ".py",
   "mimetype": "text/x-python",
   "name": "python",
   "nbconvert_exporter": "python",
   "pygments_lexer": "ipython3",
   "version": "3.7.4"
  }
 },
 "nbformat": 4,
 "nbformat_minor": 2
}
