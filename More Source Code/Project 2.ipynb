{
 "cells": [
  {
   "cell_type": "markdown",
   "metadata": {},
   "source": [
    "# Project 2\n",
    "This project will focus on comparing and contrasting the supervised and unsupervised algorithms we have learned so far. Clearly label each section and number in the notebook"
   ]
  },
  {
   "cell_type": "code",
   "execution_count": 176,
   "metadata": {},
   "outputs": [],
   "source": [
    "import warnings\n",
    "warnings.filterwarnings('ignore')\n",
    "\n",
    "import pandas as pd\n",
    "import numpy as np\n",
    "from plotnine import *\n",
    "\n",
    "from sklearn.tree import DecisionTreeClassifier # Decision Tree\n",
    "\n",
    "from sklearn.preprocessing import StandardScaler\n",
    "\n",
    "from sklearn.cluster import AgglomerativeClustering\n",
    "\n",
    "from sklearn.cluster import KMeans\n",
    "from sklearn.mixture import GaussianMixture\n",
    "\n",
    "from sklearn.metrics import silhouette_score\n",
    "from sklearn import metrics \n",
    "\n",
    "from sklearn.neighbors import KNeighborsClassifier\n",
    "\n",
    "from sklearn.preprocessing import LabelEncoder\n",
    "\n",
    "import scipy.cluster.hierarchy as sch\n",
    "from matplotlib import pyplot as plt\n",
    "\n",
    "from sklearn.linear_model import LogisticRegression \n",
    "from sklearn.preprocessing import StandardScaler\n",
    "from sklearn.metrics import accuracy_score, confusion_matrix\n",
    "from sklearn.metrics import r2_score, mean_squared_error\n",
    "\n",
    "from sklearn.model_selection import train_test_split \n",
    "from sklearn.model_selection import KFold \n",
    "from sklearn.model_selection import LeaveOneOut \n",
    "from sklearn.model_selection import cross_val_score\n",
    "from sklearn.model_selection import cross_val_predict \n",
    "\n",
    "from sklearn.metrics import accuracy_score, confusion_matrix\n",
    "from sklearn.metrics import plot_confusion_matrix\n",
    "\n",
    "from sklearn.model_selection import GridSearchCV\n",
    "\n",
    "from sklearn.preprocessing import LabelBinarizer\n",
    "\n",
    "%matplotlib inline"
   ]
  },
  {
   "cell_type": "markdown",
   "metadata": {},
   "source": [
    "# Part I\n",
    "Use the dataset burgersOrPizza.csv to build 3 models that predict whether a food is a burger or pizza (you can use any of the predictive models we've learned).\n",
    "\n",
    "For each model:\n",
    "- Explore data (with ggplot)\n",
    "- Explain which variables you're using to predict the outcome.\n",
    "- Explain which model validation technique you're using and why.\n",
    "- Explain why you did or did not choose to standardize your continuous variables.\n",
    "- Evaluate how the model performed. Explain.\n",
    "\n",
    "At the end:\n",
    "- Compare the performance of the 3 models using the accuracy, and the confusion matrix (consider things like how many it got correct, which errors it was most likely to make...etc)."
   ]
  },
  {
   "cell_type": "markdown",
   "metadata": {},
   "source": [
    "# I used the same variables, model validation, and standardization for all 3 models: \n",
    "\n",
    "I'm using all continuous variables to give my model maximum prediction power, except potassium and potassium 100g because pizza doesn't have any potassium. If you keep the potassium columns and try to drop NAs, then it keeps only burgers, so those columns have to be removed BEFORE we drop NAs. I chose not to use item name and description because there would be so many different factor levels for those that it would be essentially useless. The model could also use the titles to group burgers and pizzas together and that would defeat the point of predicting.\n",
    "\n",
    "Because this is a small data set, I decided to use k fold cross validation with 5 folds. Its definitely small enough that it wouldn't warrant a test/train split, but big enough that I don't want to run 927 models with LOOCV.\n",
    "\n",
    "I chose to standardize my variables because they're measured in different units and scales."
   ]
  },
  {
   "cell_type": "markdown",
   "metadata": {},
   "source": [
    "# Data Prep and Z Scoring"
   ]
  },
  {
   "cell_type": "code",
   "execution_count": null,
   "metadata": {},
   "outputs": [],
   "source": [
    "bp = pd.read_csv(\"https://raw.githubusercontent.com/cmparlettpelleriti/CPSC392ParlettPelleriti/master/Data/burgersOrPizza.csv\")\n",
    "bp.shape\n",
    "\n",
    "bp = bp.drop(\"Item_Name\",axis = 1)\n",
    "bp = bp.drop(\"Item_Description\",axis = 1) \n",
    "bp = bp.drop(\"Potassium\",axis = 1) \n",
    "bp = bp.drop('Potassium_100g',axis=1) \n",
    "\n",
    "bp = bp.dropna() \n",
    "\n",
    "features = bp.columns[1:20]\n",
    "X = bp[features]\n",
    "y = bp[\"Food_Category\"]\n",
    "\n",
    "b = LabelBinarizer()\n",
    "y = b.fit_transform(y)\n",
    "\n",
    "z = StandardScaler()\n",
    "z.fit(X)\n",
    "X[features] = z.transform(X)"
   ]
  },
  {
   "cell_type": "markdown",
   "metadata": {},
   "source": [
    "# 1. Logistic Regression"
   ]
  },
  {
   "cell_type": "markdown",
   "metadata": {},
   "source": [
    "My model performed pretty well! My best k fold model that I used to train my final model had an accuracy score 89.6%. My confusion matrix shows 155 correct predictions and 18 incorrect predictions."
   ]
  },
  {
   "cell_type": "code",
   "execution_count": 145,
   "metadata": {},
   "outputs": [
    {
     "name": "stdout",
     "output_type": "stream",
     "text": [
      "0.8959537572254336\n"
     ]
    },
    {
     "data": {
      "image/png": "[encoded data removed]",
      "text/plain": [
       "<Figure size 432x288 with 2 Axes>"
      ]
     },
     "metadata": {
      "needs_background": "light"
     },
     "output_type": "display_data"
    }
   ],
   "source": [
    "kf = KFold(n_splits = 5)\n",
    "kf.split(X)\n",
    "lr = LogisticRegression()\n",
    "acc = []\n",
    "\n",
    "for train_indices, test_indices in kf.split(X):\n",
    "    X_train = X.iloc[train_indices]\n",
    "    X_test  = X.iloc[test_indices]\n",
    "    y_train = y[train_indices]\n",
    "    y_test  = y[test_indices]\n",
    "  \n",
    "    model = lr.fit(X_train, y_train)\n",
    "    acc.append(accuracy_score(y_test, model.predict(X_test)))\n",
    "    \n",
    "chosen_k = max(acc)\n",
    "lr_final = lr.fit(X_train,y_train)\n",
    "plot_confusion_matrix(lr_final, X_test, y_test)\n",
    "print(lr_final.score(X_test,y_test))"
   ]
  },
  {
   "cell_type": "markdown",
   "metadata": {},
   "source": [
    "# 2. K Nearest Neighbors"
   ]
  },
  {
   "cell_type": "markdown",
   "metadata": {},
   "source": [
    "My model performed really well! My test accuracy using my best k fold model was 98.8%. The confusion matrix from my best model had only 4 incorrect predictions and around 167 correct predictions."
   ]
  },
  {
   "cell_type": "code",
   "execution_count": 154,
   "metadata": {},
   "outputs": [
    {
     "name": "stdout",
     "output_type": "stream",
     "text": [
      "{1: 0.9754457303722239, 2: 0.9696694818058595, 3: 0.9653320821603586, 4: 0.9638828067980398, 5: 0.9566677093108122, 6: 0.9609946825148576, 7: 0.9465644875404025, 8: 0.949442185382129, 9: 0.9378688353664894, 10: 0.9320925868001251}\n"
     ]
    },
    {
     "data": {
      "text/plain": [
       "0.976878612716763"
      ]
     },
     "execution_count": 154,
     "metadata": {},
     "output_type": "execute_result"
    },
    {
     "data": {
      "image/png": "[encoded data removed]",
      "text/plain": [
       "<Figure size 432x288 with 2 Axes>"
      ]
     },
     "metadata": {
      "needs_background": "light"
     },
     "output_type": "display_data"
    }
   ],
   "source": [
    "X_train, X_test, y_train, y_test = train_test_split(X, y, test_size = 0.2)\n",
    "\n",
    "poss_k = [1,2,3,4,5,6,7,8,9,10]\n",
    "acc = {}\n",
    "\n",
    "for k in poss_k:\n",
    "    kf = KFold(n_splits = 5)\n",
    "    knn = KNeighborsClassifier(n_neighbors = k)\n",
    "    acc[k] = np.mean(cross_val_score(knn, X_train, y_train, cv = kf))\n",
    "\n",
    "print(acc)\n",
    "\n",
    "chosen_k = max(acc, key=acc.get)\n",
    "\n",
    "knn_final = KNeighborsClassifier(n_neighbors = chosen_k)\n",
    "knn_final.fit(X_train,y_train)\n",
    "plot_confusion_matrix(knn_final, X_test, y_test)\n",
    "\n",
    "knn_final.score(X_test,y_test)"
   ]
  },
  {
   "cell_type": "markdown",
   "metadata": {},
   "source": [
    "# 3. Decision tree "
   ]
  },
  {
   "cell_type": "markdown",
   "metadata": {},
   "source": [
    "This model did pretty well too! My average accuracy across my trees, or I guess technically my \"forest\" since I'm using the avg accuracy across all my k fold models, is 95.7% and I printed a confusion matrix at the end of each iteration of my for loop, and we can see that all of them have high amounts of correct predictions (in the top left box and bottom right box) and low amounts of incorrect predictions (bottom left box and top right box), which supports what we already saw in the accuracy scores."
   ]
  },
  {
   "cell_type": "code",
   "execution_count": 158,
   "metadata": {},
   "outputs": [
    {
     "name": "stdout",
     "output_type": "stream",
     "text": [
      "[0.9826589595375722, 0.9942196531791907, 0.9075144508670521, 0.9479768786127167, 0.953757225433526]\n",
      "0.9572254335260115\n",
      "[14, 16, 10, 14, 14]\n"
     ]
    },
    {
     "data": {
      "image/png": "[encoded data removed]",
      "text/plain": [
       "<Figure size 432x288 with 2 Axes>"
      ]
     },
     "metadata": {
      "needs_background": "light"
     },
     "output_type": "display_data"
    },
    {
     "data": {
      "image/png": "[encoded data removed]",
      "text/plain": [
       "<Figure size 432x288 with 2 Axes>"
      ]
     },
     "metadata": {
      "needs_background": "light"
     },
     "output_type": "display_data"
    },
    {
     "data": {
      "image/png": "[encoded data removed]",
      "text/plain": [
       "<Figure size 432x288 with 2 Axes>"
      ]
     },
     "metadata": {
      "needs_background": "light"
     },
     "output_type": "display_data"
    },
    {
     "data": {
      "image/png": "[encoded data removed]",
      "text/plain": [
       "<Figure size 432x288 with 2 Axes>"
      ]
     },
     "metadata": {
      "needs_background": "light"
     },
     "output_type": "display_data"
    },
    {
     "data": {
      "image/png": "[encoded data removed]",
      "text/plain": [
       "<Figure size 432x288 with 2 Axes>"
      ]
     },
     "metadata": {
      "needs_background": "light"
     },
     "output_type": "display_data"
    }
   ],
   "source": [
    "kf = KFold(5, shuffle = True)\n",
    "acc = []\n",
    "depth = []\n",
    "\n",
    "for train, test in kf.split(X):\n",
    "    X_train = X.iloc[train,]\n",
    "    X_test = X.iloc[test,]\n",
    "    y_train = y[train]\n",
    "    y_test = y[test]\n",
    "    \n",
    "    tree = DecisionTreeClassifier()\n",
    "    tree_mod = tree.fit(X_train,y_train)\n",
    "    \n",
    "    acc.append(tree.score(X_test,y_test))\n",
    "    depth.append(tree.get_depth())\n",
    "    plot_confusion_matrix(tree_mod, X_test, y_test)\n",
    "\n",
    "print(acc)\n",
    "print(np.mean(acc))\n",
    "print(depth)"
   ]
  },
  {
   "cell_type": "markdown",
   "metadata": {},
   "source": [
    "# Which model performed best?"
   ]
  },
  {
   "cell_type": "markdown",
   "metadata": {},
   "source": [
    "Accuracies:\n",
    "\n",
    "Decision tree: 95.7%\n",
    "\n",
    "Logistic Regression: 89.6%\n",
    "\n",
    "KNN: 98.8%\n",
    "\n",
    "The KNN performed best, the decision tree was a close second, and the logistic regression came in third. All 3 models did pretty well overall. Although KNN did the best, it seems like the model is overfit. 98.8% accuracy really seems too good to be true, but it could just be that we have one or more really powerful variables that are different in burgers and pizza and make it easy to decide which is which. "
   ]
  },
  {
   "cell_type": "markdown",
   "metadata": {},
   "source": [
    "# Part II\n",
    "Use the dataset KrispyKreme.csv to build 2 clustering models (you can use any of the clustering models we've learned).\n",
    "\n",
    "For each model:\n",
    "- Explore data (with ggplot)\n",
    "- Explain which variables you're using to predict the outcome.\n",
    "- Evaluate how the model performed using sihouette scores. Look at different numbers of cluseters (like k = 3,5..etc). Which number of clusters is the best fit?\n",
    "- Describe the clusters (what are they like? how are they different)\n",
    "\n",
    "At the end:\n",
    "- Compare the clusters obtained by the two models. Overall are they similar? or really different (i.e. do they contain mostly the same members?)\n",
    "\n",
    "Please get rid of extra analyses/superfluous code before turning it in. Turn in A PDF on Blackboard."
   ]
  },
  {
   "cell_type": "markdown",
   "metadata": {},
   "source": [
    "# Data Prep and Z Scoring"
   ]
  },
  {
   "cell_type": "code",
   "execution_count": 198,
   "metadata": {},
   "outputs": [],
   "source": [
    "#1 oz = 28.3495 grams\n",
    "#Converts all serving sizes to grams\n",
    "kk = pd.read_csv(\"https://raw.githubusercontent.com/cmparlettpelleriti/CPSC392ParlettPelleriti/master/Data/KrispyKreme.csv\")\n",
    "kk['Normalized_Serving_Size'] = np.where(kk['Serving_Size_Unit'] == 'oz', kk['Serving_Size'] * 28.3495, kk['Serving_Size'])\n",
    "\n",
    "kk = kk.drop(\"Restaurant_Item_Name\",axis = 1)\n",
    "kk = kk.drop(\"restaurant\",axis = 1)\n",
    "kk = kk.drop(\"Item_Name\",axis = 1)\n",
    "kk = kk.drop(\"Item_Description\",axis = 1)\n",
    "kk = kk.drop(\"Serving_Size_text\",axis = 1)\n",
    "kk = kk.drop(\"Serving_Size\",axis = 1)\n",
    "kk = kk.drop(\"Serving_Size_Unit\",axis = 1)\n",
    "kk = kk.drop(\"Serving_Size_household\",axis = 1)\n",
    "\n",
    "# kk = kk.dropna() \n",
    "\n",
    "le = LabelEncoder()\n",
    "kk[\"Food_Category\"] = le.fit_transform(kk[\"Food_Category\"])\n",
    "\n",
    "features = kk.columns[0:24]\n",
    "cont_features = kk.columns[2:24]\n",
    "\n",
    "X = kk[features]\n",
    "z = StandardScaler()\n",
    "z.fit(X[cont_features])\n",
    "X = z.transform(X[cont_features])"
   ]
  },
  {
   "cell_type": "markdown",
   "metadata": {},
   "source": [
    "# 1. Model 1"
   ]
  },
  {
   "cell_type": "markdown",
   "metadata": {},
   "source": [
    "I'm using ___ variables.\n",
    "\n",
    "___ clusters is the best fit because it has the highest silhouette score, ____.\n",
    "\n",
    "The clusters are"
   ]
  },
  {
   "cell_type": "markdown",
   "metadata": {},
   "source": [
    "# 2. Model 2"
   ]
  },
  {
   "cell_type": "markdown",
   "metadata": {},
   "source": [
    "I'm using ___ variables.\n",
    "\n",
    "___ clusters is the best fit because it has the highest silhouette score, ____.\n",
    "\n",
    "The clusters are"
   ]
  },
  {
   "cell_type": "markdown",
   "metadata": {},
   "source": [
    "# Cluster comparison"
   ]
  },
  {
   "cell_type": "markdown",
   "metadata": {},
   "source": [
    "The clusters were ____."
   ]
  }
 ],
 "metadata": {
  "kernelspec": {
   "display_name": "Python 3",
   "language": "python",
   "name": "python3"
  },
  "language_info": {
   "codemirror_mode": {
    "name": "ipython",
    "version": 3
   },
   "file_extension": ".py",
   "mimetype": "text/x-python",
   "name": "python",
   "nbconvert_exporter": "python",
   "pygments_lexer": "ipython3",
   "version": "3.7.4"
  }
 },
 "nbformat": 4,
 "nbformat_minor": 2
}
