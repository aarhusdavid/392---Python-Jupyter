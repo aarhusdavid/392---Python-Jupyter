{
 "cells": [
  {
   "cell_type": "code",
   "execution_count": 22,
   "metadata": {},
   "outputs": [],
   "source": [
    "import warnings\n",
    "warnings.filterwarnings('ignore')\n",
    "\n",
    "\n",
    "import pandas as pd\n",
    "import numpy as np\n",
    "from plotnine import *\n",
    "import statsmodels.api as sm\n",
    "\n",
    "from sklearn.linear_model import LinearRegression # Linear Regression Model\n",
    "from sklearn.preprocessing import StandardScaler #Z-score variables\n",
    "from sklearn.metrics import mean_squared_error, r2_score #model evaluation\n",
    "\n",
    "%matplotlib inline"
   ]
  },
  {
   "cell_type": "code",
   "execution_count": 2,
   "metadata": {},
   "outputs": [],
   "source": [
    "\n",
    "# Data\n",
    "ama = pd.read_csv(\"https://raw.githubusercontent.com/cmparlettpelleriti/CPSC392ParlettPelleriti/master/Data/amazon-books.txt\",\n",
    "                 sep = \"\\t\")"
   ]
  },
  {
   "cell_type": "code",
   "execution_count": 4,
   "metadata": {},
   "outputs": [
    {
     "data": {
      "text/html": [
       "<div>\n",
       "<style scoped>\n",
       "    .dataframe tbody tr th:only-of-type {\n",
       "        vertical-align: middle;\n",
       "    }\n",
       "\n",
       "    .dataframe tbody tr th {\n",
       "        vertical-align: top;\n",
       "    }\n",
       "\n",
       "    .dataframe thead th {\n",
       "        text-align: right;\n",
       "    }\n",
       "</style>\n",
       "<table border=\"1\" class=\"dataframe\">\n",
       "  <thead>\n",
       "    <tr style=\"text-align: right;\">\n",
       "      <th></th>\n",
       "      <th>Title</th>\n",
       "      <th>Author</th>\n",
       "      <th>List Price</th>\n",
       "      <th>Amazon Price</th>\n",
       "      <th>Hard/ Paper</th>\n",
       "      <th>NumPages</th>\n",
       "      <th>Publisher</th>\n",
       "      <th>Pub year</th>\n",
       "      <th>ISBN-10</th>\n",
       "      <th>Height</th>\n",
       "      <th>Width</th>\n",
       "      <th>Thick</th>\n",
       "      <th>Weight (oz)</th>\n",
       "    </tr>\n",
       "  </thead>\n",
       "  <tbody>\n",
       "    <tr>\n",
       "      <td>0</td>\n",
       "      <td>1,001 Facts that Will Scare the S#*t Out of Yo...</td>\n",
       "      <td>Cary McNeal</td>\n",
       "      <td>12.95</td>\n",
       "      <td>5.18</td>\n",
       "      <td>P</td>\n",
       "      <td>304.0</td>\n",
       "      <td>Adams Media</td>\n",
       "      <td>2010.0</td>\n",
       "      <td>1605506249</td>\n",
       "      <td>7.8</td>\n",
       "      <td>5.5</td>\n",
       "      <td>0.8</td>\n",
       "      <td>11.2</td>\n",
       "    </tr>\n",
       "    <tr>\n",
       "      <td>1</td>\n",
       "      <td>21: Bringing Down the House - Movie Tie-In: Th...</td>\n",
       "      <td>Ben Mezrich</td>\n",
       "      <td>15.00</td>\n",
       "      <td>10.20</td>\n",
       "      <td>P</td>\n",
       "      <td>273.0</td>\n",
       "      <td>Free Press</td>\n",
       "      <td>2008.0</td>\n",
       "      <td>1416564195</td>\n",
       "      <td>8.4</td>\n",
       "      <td>5.5</td>\n",
       "      <td>0.7</td>\n",
       "      <td>7.2</td>\n",
       "    </tr>\n",
       "    <tr>\n",
       "      <td>2</td>\n",
       "      <td>100 Best-Loved Poems (Dover Thrift Editions)</td>\n",
       "      <td>Smith</td>\n",
       "      <td>1.50</td>\n",
       "      <td>1.50</td>\n",
       "      <td>P</td>\n",
       "      <td>96.0</td>\n",
       "      <td>Dover Publications</td>\n",
       "      <td>1995.0</td>\n",
       "      <td>486285537</td>\n",
       "      <td>8.3</td>\n",
       "      <td>5.2</td>\n",
       "      <td>0.3</td>\n",
       "      <td>4.0</td>\n",
       "    </tr>\n",
       "    <tr>\n",
       "      <td>3</td>\n",
       "      <td>1421: The Year China Discovered America</td>\n",
       "      <td>Gavin Menzies</td>\n",
       "      <td>15.99</td>\n",
       "      <td>10.87</td>\n",
       "      <td>P</td>\n",
       "      <td>672.0</td>\n",
       "      <td>Harper Perennial</td>\n",
       "      <td>2008.0</td>\n",
       "      <td>0061564893</td>\n",
       "      <td>8.8</td>\n",
       "      <td>6.0</td>\n",
       "      <td>1.6</td>\n",
       "      <td>28.8</td>\n",
       "    </tr>\n",
       "    <tr>\n",
       "      <td>4</td>\n",
       "      <td>1493: Uncovering the New World Columbus Created</td>\n",
       "      <td>Charles C. Mann</td>\n",
       "      <td>30.50</td>\n",
       "      <td>16.77</td>\n",
       "      <td>P</td>\n",
       "      <td>720.0</td>\n",
       "      <td>Knopf</td>\n",
       "      <td>2011.0</td>\n",
       "      <td>0307265722</td>\n",
       "      <td>8.0</td>\n",
       "      <td>5.2</td>\n",
       "      <td>1.4</td>\n",
       "      <td>22.4</td>\n",
       "    </tr>\n",
       "  </tbody>\n",
       "</table>\n",
       "</div>"
      ],
      "text/plain": [
       "                                               Title           Author  \\\n",
       "0  1,001 Facts that Will Scare the S#*t Out of Yo...      Cary McNeal   \n",
       "1  21: Bringing Down the House - Movie Tie-In: Th...      Ben Mezrich   \n",
       "2       100 Best-Loved Poems (Dover Thrift Editions)            Smith   \n",
       "3            1421: The Year China Discovered America    Gavin Menzies   \n",
       "4    1493: Uncovering the New World Columbus Created  Charles C. Mann   \n",
       "\n",
       "   List Price  Amazon Price Hard/ Paper  NumPages           Publisher  \\\n",
       "0       12.95          5.18           P     304.0         Adams Media   \n",
       "1       15.00         10.20           P     273.0          Free Press   \n",
       "2        1.50          1.50           P      96.0  Dover Publications   \n",
       "3       15.99         10.87           P     672.0    Harper Perennial   \n",
       "4       30.50         16.77           P     720.0               Knopf   \n",
       "\n",
       "   Pub year     ISBN-10  Height  Width  Thick  Weight (oz)  \n",
       "0    2010.0  1605506249     7.8    5.5    0.8         11.2  \n",
       "1    2008.0  1416564195     8.4    5.5    0.7          7.2  \n",
       "2    1995.0   486285537     8.3    5.2    0.3          4.0  \n",
       "3    2008.0  0061564893     8.8    6.0    1.6         28.8  \n",
       "4    2011.0  0307265722     8.0    5.2    1.4         22.4  "
      ]
     },
     "execution_count": 4,
     "metadata": {},
     "output_type": "execute_result"
    }
   ],
   "source": [
    "ama.head()"
   ]
  },
  {
   "cell_type": "code",
   "execution_count": 6,
   "metadata": {},
   "outputs": [
    {
     "data": {
      "text/plain": [
       "Title           0\n",
       "Author          1\n",
       "List Price      1\n",
       "Amazon Price    0\n",
       "Hard/ Paper     0\n",
       "NumPages        2\n",
       "Publisher       1\n",
       "Pub year        1\n",
       "ISBN-10         0\n",
       "Height          4\n",
       "Width           5\n",
       "Thick           1\n",
       "Weight (oz)     9\n",
       "dtype: int64"
      ]
     },
     "execution_count": 6,
     "metadata": {},
     "output_type": "execute_result"
    }
   ],
   "source": [
    "ama.isnull().sum(axis = 0)"
   ]
  },
  {
   "cell_type": "code",
   "execution_count": 7,
   "metadata": {},
   "outputs": [],
   "source": [
    "ama = ama.dropna()"
   ]
  },
  {
   "cell_type": "code",
   "execution_count": 8,
   "metadata": {},
   "outputs": [
    {
     "data": {
      "image/png": "[encoded data removed]",
      "text/plain": [
       "<Figure size 640x480 with 1 Axes>"
      ]
     },
     "metadata": {},
     "output_type": "display_data"
    },
    {
     "data": {
      "text/plain": [
       "<ggplot: (300824589)>"
      ]
     },
     "execution_count": 8,
     "metadata": {},
     "output_type": "execute_result"
    }
   ],
   "source": [
    "#explore\n",
    "\n",
    "(ggplot(ama, aes(\"Amazon Price\")) + geom_histogram(fill = \"white\", color = \"black\"))"
   ]
  },
  {
   "cell_type": "code",
   "execution_count": 9,
   "metadata": {},
   "outputs": [
    {
     "data": {
      "image/png": "[encoded data removed]",
      "text/plain": [
       "<Figure size 640x480 with 1 Axes>"
      ]
     },
     "metadata": {},
     "output_type": "display_data"
    },
    {
     "data": {
      "text/plain": [
       "<ggplot: (270116889)>"
      ]
     },
     "execution_count": 9,
     "metadata": {},
     "output_type": "execute_result"
    }
   ],
   "source": [
    "(ggplot(ama, aes(\"List Price\")) + geom_histogram(fill = \"white\", color = \"black\"))"
   ]
  },
  {
   "cell_type": "code",
   "execution_count": 10,
   "metadata": {},
   "outputs": [
    {
     "data": {
      "image/png": "[encoded data removed]",
      "text/plain": [
       "<Figure size 640x480 with 1 Axes>"
      ]
     },
     "metadata": {},
     "output_type": "display_data"
    },
    {
     "data": {
      "text/plain": [
       "<ggplot: (300867773)>"
      ]
     },
     "execution_count": 10,
     "metadata": {},
     "output_type": "execute_result"
    }
   ],
   "source": [
    "(ggplot(ama, aes(\"Width\")) + geom_histogram(fill = \"white\", color = \"black\"))"
   ]
  },
  {
   "cell_type": "code",
   "execution_count": 12,
   "metadata": {},
   "outputs": [],
   "source": [
    "#model\n",
    "\n",
    "predictors = [\"List Price\", \"NumPages\", \"Weight (oz)\", \"Thick\", \"Height\", \"Width\"]\n",
    "X = ama[predictors]\n",
    "\n",
    "Y = ama[\"Amazon Price\"]"
   ]
  },
  {
   "cell_type": "code",
   "execution_count": 14,
   "metadata": {},
   "outputs": [],
   "source": [
    "zScore = StandardScaler()\n",
    "zScore.fit(X)\n",
    "Xz = zScore.transform(X)"
   ]
  },
  {
   "cell_type": "code",
   "execution_count": 15,
   "metadata": {},
   "outputs": [],
   "source": [
    "LR = LinearRegression()"
   ]
  },
  {
   "cell_type": "code",
   "execution_count": 16,
   "metadata": {},
   "outputs": [
    {
     "data": {
      "text/plain": [
       "LinearRegression(copy_X=True, fit_intercept=True, n_jobs=None, normalize=False)"
      ]
     },
     "execution_count": 16,
     "metadata": {},
     "output_type": "execute_result"
    }
   ],
   "source": [
    "LR.fit(Xz, Y)"
   ]
  },
  {
   "cell_type": "code",
   "execution_count": 18,
   "metadata": {},
   "outputs": [
    {
     "data": {
      "text/plain": [
       "array([10.91587503,  0.64596322,  7.87491152, 21.75388566, 18.09350432,\n",
       "       13.26001981, 10.59729274, 21.43797602,  9.48174291])"
      ]
     },
     "execution_count": 18,
     "metadata": {},
     "output_type": "execute_result"
    }
   ],
   "source": [
    "#model evaluate\n",
    "price_pred = LR.predict(Xz)\n",
    "\n",
    "price_pred[1:10]"
   ]
  },
  {
   "cell_type": "code",
   "execution_count": 19,
   "metadata": {},
   "outputs": [
    {
     "data": {
      "text/plain": [
       "10.61233860175146"
      ]
     },
     "execution_count": 19,
     "metadata": {},
     "output_type": "execute_result"
    }
   ],
   "source": [
    "mean_squared_error(Y, price_pred)"
   ]
  },
  {
   "cell_type": "code",
   "execution_count": 20,
   "metadata": {},
   "outputs": [
    {
     "data": {
      "text/plain": [
       "0.9205886088486431"
      ]
     },
     "execution_count": 20,
     "metadata": {},
     "output_type": "execute_result"
    }
   ],
   "source": [
    "LR.score(Xz, Y)"
   ]
  },
  {
   "cell_type": "code",
   "execution_count": 25,
   "metadata": {},
   "outputs": [],
   "source": [
    "coefficients = pd.DataFrame({\"Coef\": LR.coef_, \"Name\": predictors})\n",
    "coefficients = coefficients.append({\"Coef\": LR.intercept_, \"Name\" : \"Intercept\"}, ignore_index = True)\n"
   ]
  },
  {
   "cell_type": "code",
   "execution_count": 27,
   "metadata": {},
   "outputs": [
    {
     "data": {
      "text/html": [
       "<div>\n",
       "<style scoped>\n",
       "    .dataframe tbody tr th:only-of-type {\n",
       "        vertical-align: middle;\n",
       "    }\n",
       "\n",
       "    .dataframe tbody tr th {\n",
       "        vertical-align: top;\n",
       "    }\n",
       "\n",
       "    .dataframe thead th {\n",
       "        text-align: right;\n",
       "    }\n",
       "</style>\n",
       "<table border=\"1\" class=\"dataframe\">\n",
       "  <thead>\n",
       "    <tr style=\"text-align: right;\">\n",
       "      <th></th>\n",
       "      <th>Coef</th>\n",
       "      <th>Name</th>\n",
       "    </tr>\n",
       "  </thead>\n",
       "  <tbody>\n",
       "    <tr>\n",
       "      <td>0</td>\n",
       "      <td>11.401887</td>\n",
       "      <td>List Price</td>\n",
       "    </tr>\n",
       "    <tr>\n",
       "      <td>1</td>\n",
       "      <td>0.231519</td>\n",
       "      <td>NumPages</td>\n",
       "    </tr>\n",
       "    <tr>\n",
       "      <td>2</td>\n",
       "      <td>-0.419686</td>\n",
       "      <td>Weight (oz)</td>\n",
       "    </tr>\n",
       "    <tr>\n",
       "      <td>3</td>\n",
       "      <td>-1.159632</td>\n",
       "      <td>Thick</td>\n",
       "    </tr>\n",
       "    <tr>\n",
       "      <td>4</td>\n",
       "      <td>-0.098886</td>\n",
       "      <td>Height</td>\n",
       "    </tr>\n",
       "    <tr>\n",
       "      <td>5</td>\n",
       "      <td>-0.197179</td>\n",
       "      <td>Width</td>\n",
       "    </tr>\n",
       "    <tr>\n",
       "      <td>6</td>\n",
       "      <td>12.587645</td>\n",
       "      <td>Intercept</td>\n",
       "    </tr>\n",
       "  </tbody>\n",
       "</table>\n",
       "</div>"
      ],
      "text/plain": [
       "        Coef         Name\n",
       "0  11.401887   List Price\n",
       "1   0.231519     NumPages\n",
       "2  -0.419686  Weight (oz)\n",
       "3  -1.159632        Thick\n",
       "4  -0.098886       Height\n",
       "5  -0.197179        Width\n",
       "6  12.587645    Intercept"
      ]
     },
     "execution_count": 27,
     "metadata": {},
     "output_type": "execute_result"
    }
   ],
   "source": [
    "coefficients"
   ]
  },
  {
   "cell_type": "code",
   "execution_count": 42,
   "metadata": {},
   "outputs": [
    {
     "data": {
      "text/plain": [
       "array([[-0.41343253, -0.19260029, -0.36718493, -0.25354952, -0.15097461,\n",
       "        -0.65582302]])"
      ]
     },
     "execution_count": 42,
     "metadata": {},
     "output_type": "execute_result"
    }
   ],
   "source": [
    "newBook = np.array([12.45,300,10,0.8,8,5]).reshape(1,-1)\n",
    "newBook\n",
    "newBookz = zScore.transform(newBook)\n",
    "newBookz"
   ]
  },
  {
   "cell_type": "code",
   "execution_count": 43,
   "metadata": {},
   "outputs": [
    {
     "data": {
      "text/plain": [
       "array([8.42151431])"
      ]
     },
     "execution_count": 43,
     "metadata": {},
     "output_type": "execute_result"
    }
   ],
   "source": [
    "LR.predict(newBookz)"
   ]
  },
  {
   "cell_type": "code",
   "execution_count": 44,
   "metadata": {},
   "outputs": [
    {
     "data": {
      "text/plain": [
       "array([-0.41343253, -0.19260029, -0.36718493, -0.25354952, -0.15097461,\n",
       "       -0.65582302,  1.        ])"
      ]
     },
     "execution_count": 44,
     "metadata": {},
     "output_type": "execute_result"
    }
   ],
   "source": [
    "newBook_inter = np.append(newBookz,1)\n",
    "newBook_inter"
   ]
  },
  {
   "cell_type": "code",
   "execution_count": 45,
   "metadata": {},
   "outputs": [
    {
     "data": {
      "text/plain": [
       "8.421514307944573"
      ]
     },
     "execution_count": 45,
     "metadata": {},
     "output_type": "execute_result"
    }
   ],
   "source": [
    "coef = np.array(coefficients[\"Coef\"])\n",
    "np.sum(newBook_inter*coef)"
   ]
  },
  {
   "cell_type": "code",
   "execution_count": 35,
   "metadata": {},
   "outputs": [
    {
     "data": {
      "text/html": [
       "<div>\n",
       "<style scoped>\n",
       "    .dataframe tbody tr th:only-of-type {\n",
       "        vertical-align: middle;\n",
       "    }\n",
       "\n",
       "    .dataframe tbody tr th {\n",
       "        vertical-align: top;\n",
       "    }\n",
       "\n",
       "    .dataframe thead th {\n",
       "        text-align: right;\n",
       "    }\n",
       "</style>\n",
       "<table border=\"1\" class=\"dataframe\">\n",
       "  <thead>\n",
       "    <tr style=\"text-align: right;\">\n",
       "      <th></th>\n",
       "      <th>Unnamed: 0</th>\n",
       "      <th>artist_name</th>\n",
       "      <th>artist_id</th>\n",
       "      <th>album_id</th>\n",
       "      <th>album_type</th>\n",
       "      <th>album_release_date</th>\n",
       "      <th>album_release_year</th>\n",
       "      <th>album_release_date_precision</th>\n",
       "      <th>danceability</th>\n",
       "      <th>energy</th>\n",
       "      <th>...</th>\n",
       "      <th>track_name</th>\n",
       "      <th>track_preview_url</th>\n",
       "      <th>track_number</th>\n",
       "      <th>type</th>\n",
       "      <th>track_uri</th>\n",
       "      <th>external_urls.spotify</th>\n",
       "      <th>album_name</th>\n",
       "      <th>key_name</th>\n",
       "      <th>mode_name</th>\n",
       "      <th>key_mode</th>\n",
       "    </tr>\n",
       "  </thead>\n",
       "  <tbody>\n",
       "    <tr>\n",
       "      <td>0</td>\n",
       "      <td>1</td>\n",
       "      <td>Beyoncé</td>\n",
       "      <td>6vWDO969PvNqNYHIOW5v0m</td>\n",
       "      <td>552zi1M53PQAX5OH4FIdTx</td>\n",
       "      <td>album</td>\n",
       "      <td>2019-07-19</td>\n",
       "      <td>2019</td>\n",
       "      <td>day</td>\n",
       "      <td>0.386</td>\n",
       "      <td>0.28800</td>\n",
       "      <td>...</td>\n",
       "      <td>balance (mufasa interlude)</td>\n",
       "      <td>https://p.scdn.co/mp3-preview/de667c8595dfcf5a...</td>\n",
       "      <td>1</td>\n",
       "      <td>track</td>\n",
       "      <td>spotify:track:1RMvRv1tAvWXgYdH8DUdLX</td>\n",
       "      <td>https://open.spotify.com/track/1RMvRv1tAvWXgYd...</td>\n",
       "      <td>The Lion King: The Gift</td>\n",
       "      <td>C#</td>\n",
       "      <td>major</td>\n",
       "      <td>C# major</td>\n",
       "    </tr>\n",
       "    <tr>\n",
       "      <td>1</td>\n",
       "      <td>2</td>\n",
       "      <td>Beyoncé</td>\n",
       "      <td>6vWDO969PvNqNYHIOW5v0m</td>\n",
       "      <td>552zi1M53PQAX5OH4FIdTx</td>\n",
       "      <td>album</td>\n",
       "      <td>2019-07-19</td>\n",
       "      <td>2019</td>\n",
       "      <td>day</td>\n",
       "      <td>0.484</td>\n",
       "      <td>0.36300</td>\n",
       "      <td>...</td>\n",
       "      <td>BIGGER</td>\n",
       "      <td>https://p.scdn.co/mp3-preview/4a32106cb59a64f2...</td>\n",
       "      <td>2</td>\n",
       "      <td>track</td>\n",
       "      <td>spotify:track:4R2KJOgEUP2qO3re9BwIhs</td>\n",
       "      <td>https://open.spotify.com/track/4R2KJOgEUP2qO3r...</td>\n",
       "      <td>The Lion King: The Gift</td>\n",
       "      <td>F</td>\n",
       "      <td>minor</td>\n",
       "      <td>F minor</td>\n",
       "    </tr>\n",
       "    <tr>\n",
       "      <td>2</td>\n",
       "      <td>3</td>\n",
       "      <td>Beyoncé</td>\n",
       "      <td>6vWDO969PvNqNYHIOW5v0m</td>\n",
       "      <td>552zi1M53PQAX5OH4FIdTx</td>\n",
       "      <td>album</td>\n",
       "      <td>2019-07-19</td>\n",
       "      <td>2019</td>\n",
       "      <td>day</td>\n",
       "      <td>0.537</td>\n",
       "      <td>0.24700</td>\n",
       "      <td>...</td>\n",
       "      <td>the stars (mufasa interlude)</td>\n",
       "      <td>https://p.scdn.co/mp3-preview/93479a2826c5e5ab...</td>\n",
       "      <td>3</td>\n",
       "      <td>track</td>\n",
       "      <td>spotify:track:50QREAhIciZoAiRNtyELEh</td>\n",
       "      <td>https://open.spotify.com/track/50QREAhIciZoAiR...</td>\n",
       "      <td>The Lion King: The Gift</td>\n",
       "      <td>D</td>\n",
       "      <td>major</td>\n",
       "      <td>D major</td>\n",
       "    </tr>\n",
       "    <tr>\n",
       "      <td>3</td>\n",
       "      <td>4</td>\n",
       "      <td>Beyoncé</td>\n",
       "      <td>6vWDO969PvNqNYHIOW5v0m</td>\n",
       "      <td>552zi1M53PQAX5OH4FIdTx</td>\n",
       "      <td>album</td>\n",
       "      <td>2019-07-19</td>\n",
       "      <td>2019</td>\n",
       "      <td>day</td>\n",
       "      <td>0.672</td>\n",
       "      <td>0.69600</td>\n",
       "      <td>...</td>\n",
       "      <td>FIND YOUR WAY BACK</td>\n",
       "      <td>https://p.scdn.co/mp3-preview/43718dbb86460b67...</td>\n",
       "      <td>4</td>\n",
       "      <td>track</td>\n",
       "      <td>spotify:track:65kk9CAAqFI3LWBEhUwVqd</td>\n",
       "      <td>https://open.spotify.com/track/65kk9CAAqFI3LWB...</td>\n",
       "      <td>The Lion King: The Gift</td>\n",
       "      <td>E</td>\n",
       "      <td>minor</td>\n",
       "      <td>E minor</td>\n",
       "    </tr>\n",
       "    <tr>\n",
       "      <td>4</td>\n",
       "      <td>5</td>\n",
       "      <td>Beyoncé</td>\n",
       "      <td>6vWDO969PvNqNYHIOW5v0m</td>\n",
       "      <td>552zi1M53PQAX5OH4FIdTx</td>\n",
       "      <td>album</td>\n",
       "      <td>2019-07-19</td>\n",
       "      <td>2019</td>\n",
       "      <td>day</td>\n",
       "      <td>0.000</td>\n",
       "      <td>0.00515</td>\n",
       "      <td>...</td>\n",
       "      <td>uncle scar (scar interlude)</td>\n",
       "      <td>NaN</td>\n",
       "      <td>5</td>\n",
       "      <td>track</td>\n",
       "      <td>spotify:track:4KJ3NHQvLjA0hB2nv43cxD</td>\n",
       "      <td>https://open.spotify.com/track/4KJ3NHQvLjA0hB2...</td>\n",
       "      <td>The Lion King: The Gift</td>\n",
       "      <td>A</td>\n",
       "      <td>minor</td>\n",
       "      <td>A minor</td>\n",
       "    </tr>\n",
       "  </tbody>\n",
       "</table>\n",
       "<p>5 rows × 37 columns</p>\n",
       "</div>"
      ],
      "text/plain": [
       "   Unnamed: 0 artist_name               artist_id                album_id  \\\n",
       "0           1     Beyoncé  6vWDO969PvNqNYHIOW5v0m  552zi1M53PQAX5OH4FIdTx   \n",
       "1           2     Beyoncé  6vWDO969PvNqNYHIOW5v0m  552zi1M53PQAX5OH4FIdTx   \n",
       "2           3     Beyoncé  6vWDO969PvNqNYHIOW5v0m  552zi1M53PQAX5OH4FIdTx   \n",
       "3           4     Beyoncé  6vWDO969PvNqNYHIOW5v0m  552zi1M53PQAX5OH4FIdTx   \n",
       "4           5     Beyoncé  6vWDO969PvNqNYHIOW5v0m  552zi1M53PQAX5OH4FIdTx   \n",
       "\n",
       "  album_type album_release_date  album_release_year  \\\n",
       "0      album         2019-07-19                2019   \n",
       "1      album         2019-07-19                2019   \n",
       "2      album         2019-07-19                2019   \n",
       "3      album         2019-07-19                2019   \n",
       "4      album         2019-07-19                2019   \n",
       "\n",
       "  album_release_date_precision  danceability   energy  ...  \\\n",
       "0                          day         0.386  0.28800  ...   \n",
       "1                          day         0.484  0.36300  ...   \n",
       "2                          day         0.537  0.24700  ...   \n",
       "3                          day         0.672  0.69600  ...   \n",
       "4                          day         0.000  0.00515  ...   \n",
       "\n",
       "                     track_name  \\\n",
       "0    balance (mufasa interlude)   \n",
       "1                        BIGGER   \n",
       "2  the stars (mufasa interlude)   \n",
       "3            FIND YOUR WAY BACK   \n",
       "4   uncle scar (scar interlude)   \n",
       "\n",
       "                                   track_preview_url  track_number   type  \\\n",
       "0  https://p.scdn.co/mp3-preview/de667c8595dfcf5a...             1  track   \n",
       "1  https://p.scdn.co/mp3-preview/4a32106cb59a64f2...             2  track   \n",
       "2  https://p.scdn.co/mp3-preview/93479a2826c5e5ab...             3  track   \n",
       "3  https://p.scdn.co/mp3-preview/43718dbb86460b67...             4  track   \n",
       "4                                                NaN             5  track   \n",
       "\n",
       "                              track_uri  \\\n",
       "0  spotify:track:1RMvRv1tAvWXgYdH8DUdLX   \n",
       "1  spotify:track:4R2KJOgEUP2qO3re9BwIhs   \n",
       "2  spotify:track:50QREAhIciZoAiRNtyELEh   \n",
       "3  spotify:track:65kk9CAAqFI3LWBEhUwVqd   \n",
       "4  spotify:track:4KJ3NHQvLjA0hB2nv43cxD   \n",
       "\n",
       "                               external_urls.spotify               album_name  \\\n",
       "0  https://open.spotify.com/track/1RMvRv1tAvWXgYd...  The Lion King: The Gift   \n",
       "1  https://open.spotify.com/track/4R2KJOgEUP2qO3r...  The Lion King: The Gift   \n",
       "2  https://open.spotify.com/track/50QREAhIciZoAiR...  The Lion King: The Gift   \n",
       "3  https://open.spotify.com/track/65kk9CAAqFI3LWB...  The Lion King: The Gift   \n",
       "4  https://open.spotify.com/track/4KJ3NHQvLjA0hB2...  The Lion King: The Gift   \n",
       "\n",
       "   key_name  mode_name  key_mode  \n",
       "0        C#      major  C# major  \n",
       "1         F      minor   F minor  \n",
       "2         D      major   D major  \n",
       "3         E      minor   E minor  \n",
       "4         A      minor   A minor  \n",
       "\n",
       "[5 rows x 37 columns]"
      ]
     },
     "execution_count": 35,
     "metadata": {},
     "output_type": "execute_result"
    }
   ],
   "source": [
    "b = pd.read_csv(\"https://raw.githubusercontent.com/cmparlettpelleriti/CPSC392ParlettPelleriti/master/Data/Beyonce_data.csv\")\n",
    "b.head()"
   ]
  },
  {
   "cell_type": "code",
   "execution_count": 58,
   "metadata": {},
   "outputs": [],
   "source": [
    "predictors = [\"energy\", \"key\", \"loudness\", \"speechiness\",\n",
    "              \"acousticness\", \"instrumentalness\", \"liveness\", \"valence\", \"tempo\"]"
   ]
  },
  {
   "cell_type": "code",
   "execution_count": 59,
   "metadata": {},
   "outputs": [],
   "source": [
    "x = b[predictors]\n",
    "Y = b[\"danceability\"]"
   ]
  },
  {
   "cell_type": "code",
   "execution_count": 60,
   "metadata": {},
   "outputs": [],
   "source": [
    "zScoreb = StandardScaler()\n",
    "zScoreb.fit(X)\n",
    "Xz = zScoreb.transform(X)"
   ]
  },
  {
   "cell_type": "code",
   "execution_count": 61,
   "metadata": {},
   "outputs": [
    {
     "ename": "ValueError",
     "evalue": "Found input variables with inconsistent numbers of samples: [310, 474]",
     "output_type": "error",
     "traceback": [
      "\u001b[0;31m---------------------------------------------------------------------------\u001b[0m",
      "\u001b[0;31mValueError\u001b[0m                                Traceback (most recent call last)",
      "\u001b[0;32m<ipython-input-61-5526ef535987>\u001b[0m in \u001b[0;36m<module>\u001b[0;34m\u001b[0m\n\u001b[1;32m      1\u001b[0m \u001b[0mb_mod\u001b[0m \u001b[0;34m=\u001b[0m \u001b[0mLinearRegression\u001b[0m\u001b[0;34m(\u001b[0m\u001b[0;34m)\u001b[0m\u001b[0;34m\u001b[0m\u001b[0;34m\u001b[0m\u001b[0m\n\u001b[0;32m----> 2\u001b[0;31m \u001b[0mb_mod\u001b[0m\u001b[0;34m.\u001b[0m\u001b[0mfit\u001b[0m\u001b[0;34m(\u001b[0m\u001b[0mXz\u001b[0m\u001b[0;34m,\u001b[0m \u001b[0mY\u001b[0m\u001b[0;34m)\u001b[0m\u001b[0;34m\u001b[0m\u001b[0;34m\u001b[0m\u001b[0m\n\u001b[0m",
      "\u001b[0;32m~/opt/anaconda3/lib/python3.7/site-packages/sklearn/linear_model/base.py\u001b[0m in \u001b[0;36mfit\u001b[0;34m(self, X, y, sample_weight)\u001b[0m\n\u001b[1;32m    461\u001b[0m         \u001b[0mn_jobs_\u001b[0m \u001b[0;34m=\u001b[0m \u001b[0mself\u001b[0m\u001b[0;34m.\u001b[0m\u001b[0mn_jobs\u001b[0m\u001b[0;34m\u001b[0m\u001b[0;34m\u001b[0m\u001b[0m\n\u001b[1;32m    462\u001b[0m         X, y = check_X_y(X, y, accept_sparse=['csr', 'csc', 'coo'],\n\u001b[0;32m--> 463\u001b[0;31m                          y_numeric=True, multi_output=True)\n\u001b[0m\u001b[1;32m    464\u001b[0m \u001b[0;34m\u001b[0m\u001b[0m\n\u001b[1;32m    465\u001b[0m         \u001b[0;32mif\u001b[0m \u001b[0msample_weight\u001b[0m \u001b[0;32mis\u001b[0m \u001b[0;32mnot\u001b[0m \u001b[0;32mNone\u001b[0m \u001b[0;32mand\u001b[0m \u001b[0mnp\u001b[0m\u001b[0;34m.\u001b[0m\u001b[0matleast_1d\u001b[0m\u001b[0;34m(\u001b[0m\u001b[0msample_weight\u001b[0m\u001b[0;34m)\u001b[0m\u001b[0;34m.\u001b[0m\u001b[0mndim\u001b[0m \u001b[0;34m>\u001b[0m \u001b[0;36m1\u001b[0m\u001b[0;34m:\u001b[0m\u001b[0;34m\u001b[0m\u001b[0;34m\u001b[0m\u001b[0m\n",
      "\u001b[0;32m~/opt/anaconda3/lib/python3.7/site-packages/sklearn/utils/validation.py\u001b[0m in \u001b[0;36mcheck_X_y\u001b[0;34m(X, y, accept_sparse, accept_large_sparse, dtype, order, copy, force_all_finite, ensure_2d, allow_nd, multi_output, ensure_min_samples, ensure_min_features, y_numeric, warn_on_dtype, estimator)\u001b[0m\n\u001b[1;32m    727\u001b[0m         \u001b[0my\u001b[0m \u001b[0;34m=\u001b[0m \u001b[0my\u001b[0m\u001b[0;34m.\u001b[0m\u001b[0mastype\u001b[0m\u001b[0;34m(\u001b[0m\u001b[0mnp\u001b[0m\u001b[0;34m.\u001b[0m\u001b[0mfloat64\u001b[0m\u001b[0;34m)\u001b[0m\u001b[0;34m\u001b[0m\u001b[0;34m\u001b[0m\u001b[0m\n\u001b[1;32m    728\u001b[0m \u001b[0;34m\u001b[0m\u001b[0m\n\u001b[0;32m--> 729\u001b[0;31m     \u001b[0mcheck_consistent_length\u001b[0m\u001b[0;34m(\u001b[0m\u001b[0mX\u001b[0m\u001b[0;34m,\u001b[0m \u001b[0my\u001b[0m\u001b[0;34m)\u001b[0m\u001b[0;34m\u001b[0m\u001b[0;34m\u001b[0m\u001b[0m\n\u001b[0m\u001b[1;32m    730\u001b[0m \u001b[0;34m\u001b[0m\u001b[0m\n\u001b[1;32m    731\u001b[0m     \u001b[0;32mreturn\u001b[0m \u001b[0mX\u001b[0m\u001b[0;34m,\u001b[0m \u001b[0my\u001b[0m\u001b[0;34m\u001b[0m\u001b[0;34m\u001b[0m\u001b[0m\n",
      "\u001b[0;32m~/opt/anaconda3/lib/python3.7/site-packages/sklearn/utils/validation.py\u001b[0m in \u001b[0;36mcheck_consistent_length\u001b[0;34m(*arrays)\u001b[0m\n\u001b[1;32m    203\u001b[0m     \u001b[0;32mif\u001b[0m \u001b[0mlen\u001b[0m\u001b[0;34m(\u001b[0m\u001b[0muniques\u001b[0m\u001b[0;34m)\u001b[0m \u001b[0;34m>\u001b[0m \u001b[0;36m1\u001b[0m\u001b[0;34m:\u001b[0m\u001b[0;34m\u001b[0m\u001b[0;34m\u001b[0m\u001b[0m\n\u001b[1;32m    204\u001b[0m         raise ValueError(\"Found input variables with inconsistent numbers of\"\n\u001b[0;32m--> 205\u001b[0;31m                          \" samples: %r\" % [int(l) for l in lengths])\n\u001b[0m\u001b[1;32m    206\u001b[0m \u001b[0;34m\u001b[0m\u001b[0m\n\u001b[1;32m    207\u001b[0m \u001b[0;34m\u001b[0m\u001b[0m\n",
      "\u001b[0;31mValueError\u001b[0m: Found input variables with inconsistent numbers of samples: [310, 474]"
     ]
    }
   ],
   "source": [
    "b_mod = LinearRegression()\n",
    "b_mod.fit(Xz, Y)"
   ]
  },
  {
   "cell_type": "code",
   "execution_count": null,
   "metadata": {},
   "outputs": [],
   "source": []
  },
  {
   "cell_type": "code",
   "execution_count": null,
   "metadata": {},
   "outputs": [],
   "source": []
  },
  {
   "cell_type": "code",
   "execution_count": null,
   "metadata": {},
   "outputs": [],
   "source": []
  }
 ],
 "metadata": {
  "kernelspec": {
   "display_name": "Python 3",
   "language": "python",
   "name": "python3"
  },
  "language_info": {
   "codemirror_mode": {
    "name": "ipython",
    "version": 3
   },
   "file_extension": ".py",
   "mimetype": "text/x-python",
   "name": "python",
   "nbconvert_exporter": "python",
   "pygments_lexer": "ipython3",
   "version": "3.7.4"
  }
 },
 "nbformat": 4,
 "nbformat_minor": 2
}
