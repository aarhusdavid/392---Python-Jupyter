{
 "cells": [
  {
   "cell_type": "code",
   "execution_count": 8,
   "metadata": {},
   "outputs": [],
   "source": [
    "import warnings\n",
    "warnings.filterwarnings('ignore')\n",
    "\n",
    "import pandas as pd\n",
    "import numpy as np"
   ]
  },
  {
   "cell_type": "markdown",
   "metadata": {},
   "source": [
    "# 1. K Means\n",
    "Once you've chosen random cluster centers to begin with, K-means has two main steps:\n",
    "\n",
    "1. calculate which center each data point is closest to.\n",
    "\n",
    "2. use those cluster assignments to recalculate the center of each cluster.\n",
    "\n",
    "Write two functions: howFar(centers, points), and calculateCenters(points, assignments) which do 1 and 2 respectively. See below for an example of what centers, points and assignments will look like. (assume data points have 2 features, and that you're using euclidean distance, but assume that centers and points could be of variable lengths)."
   ]
  },
  {
   "cell_type": "code",
   "execution_count": null,
   "metadata": {},
   "outputs": [],
   "source": [
    "# # get the keys of the three highest values in a dict\n",
    "# my_dict = {\"A\":3,\"B\":4,\"H\":1,\"K\":8,\"T\":0}\n",
    "# sorted(my_dict, key=my_dict.get, reverse=True)[:3]\n",
    "\n",
    "# # adding together elements of a np array...\n",
    "\n",
    "# a = np.array([1,2,3,4])\n",
    "# b = np.array([1,2,3,6])\n",
    "\n",
    "# a + b"
   ]
  },
  {
   "cell_type": "code",
   "execution_count": 14,
   "metadata": {},
   "outputs": [],
   "source": [
    "#1. calculate which center each data point is closest to.\n",
    "\n",
    "def howFar (df1, df2):\n",
    "    dist_list = []\n",
    "    assignments = []\n",
    "    #points\n",
    "    for i in range(len(df2)):\n",
    "        point_dist_list = []\n",
    "        point1 = df2.loc[i, : ]\n",
    "        x1 = point1[0]\n",
    "        y1 = point1[1]\n",
    "        cluster_num = i\n",
    "        centers_dist_list = []\n",
    "        #centers\n",
    "        for int in range(len(df1)):\n",
    "            point2 = df1.loc[int, : ]\n",
    "            x2 = point2[0]\n",
    "            y2 = point2[1]\n",
    "            dist = np.sqrt((x1 - x2)*(x1 - x2) + (y1 - y2)*(y1 - y2))\n",
    "            centers_dist_list.append(dist)\n",
    "        cluster_assgnment = centers_dist_list.index(np.amin(centers_dist_list))\n",
    "        assignments.append(cluster_assgnment)\n",
    "    return assignments"
   ]
  },
  {
   "cell_type": "code",
   "execution_count": 22,
   "metadata": {},
   "outputs": [],
   "source": [
    "#2. use those cluster assignments to recalculate the center of each cluster.\n",
    "\n",
    "def calculateCenters(points, assignments):\n",
    "    new_centroids = []\n",
    "    cluster_df = pd.concat([pd.DataFrame(cluster_array),\n",
    "                            pd.DataFrame(clusters, \n",
    "                                         columns=['cluster'])], \n",
    "                           axis=1)\n",
    "    for c in set(cluster_df['cluster']):\n",
    "        current_cluster = cluster_df[cluster_df['cluster']\\\n",
    "                                     ==c][cluster_df.columns[:-1]]\n",
    "        cluster_mean = current_cluster.mean(axis=0)\n",
    "        new_centroids.append(cluster_mean)\n",
    "    return new_centroids"
   ]
  },
  {
   "cell_type": "code",
   "execution_count": 23,
   "metadata": {},
   "outputs": [],
   "source": [
    "centers = pd.DataFrame([(10,15), (2,3), (7,7)], columns = [\"X\", \"Y\"])\n",
    "points = pd.DataFrame([(9.09,6.93),(10.79,8.76),(9.07,2.25),\n",
    "                        (7.91,12.59),(3.22,5.61),(5.04,14.04),(13.14,1.22),(3.77,1.54)], columns = [\"X\", \"Y\"])"
   ]
  },
  {
   "cell_type": "code",
   "execution_count": 24,
   "metadata": {},
   "outputs": [
    {
     "name": "stdout",
     "output_type": "stream",
     "text": [
      "[2, 2, 2, 0, 1, 0, 2, 1]\n"
     ]
    }
   ],
   "source": [
    "assignments = howFar(centers,points)\n",
    "print(assignments)"
   ]
  },
  {
   "cell_type": "code",
   "execution_count": 25,
   "metadata": {},
   "outputs": [
    {
     "ename": "NameError",
     "evalue": "name 'cluster_array' is not defined",
     "output_type": "error",
     "traceback": [
      "\u001b[0;31m---------------------------------------------------------------------------\u001b[0m",
      "\u001b[0;31mNameError\u001b[0m                                 Traceback (most recent call last)",
      "\u001b[0;32m<ipython-input-25-1d107c8d5dd7>\u001b[0m in \u001b[0;36m<module>\u001b[0;34m\u001b[0m\n\u001b[0;32m----> 1\u001b[0;31m \u001b[0mcalculateCenters\u001b[0m\u001b[0;34m(\u001b[0m\u001b[0mpoints\u001b[0m\u001b[0;34m,\u001b[0m\u001b[0massignments\u001b[0m\u001b[0;34m)\u001b[0m\u001b[0;34m\u001b[0m\u001b[0;34m\u001b[0m\u001b[0m\n\u001b[0m",
      "\u001b[0;32m<ipython-input-22-82198553e19b>\u001b[0m in \u001b[0;36mcalculateCenters\u001b[0;34m(points, assignments)\u001b[0m\n\u001b[1;32m      3\u001b[0m \u001b[0;32mdef\u001b[0m \u001b[0mcalculateCenters\u001b[0m\u001b[0;34m(\u001b[0m\u001b[0mpoints\u001b[0m\u001b[0;34m,\u001b[0m \u001b[0massignments\u001b[0m\u001b[0;34m)\u001b[0m\u001b[0;34m:\u001b[0m\u001b[0;34m\u001b[0m\u001b[0;34m\u001b[0m\u001b[0m\n\u001b[1;32m      4\u001b[0m     \u001b[0mnew_centroids\u001b[0m \u001b[0;34m=\u001b[0m \u001b[0;34m[\u001b[0m\u001b[0;34m]\u001b[0m\u001b[0;34m\u001b[0m\u001b[0;34m\u001b[0m\u001b[0m\n\u001b[0;32m----> 5\u001b[0;31m     cluster_df = pd.concat([pd.DataFrame(cluster_array),\n\u001b[0m\u001b[1;32m      6\u001b[0m                             pd.DataFrame(clusters, \n\u001b[1;32m      7\u001b[0m                                          columns=['cluster'])], \n",
      "\u001b[0;31mNameError\u001b[0m: name 'cluster_array' is not defined"
     ]
    }
   ],
   "source": [
    "calculateCenters(points,assignments)"
   ]
  },
  {
   "cell_type": "code",
   "execution_count": null,
   "metadata": {},
   "outputs": [],
   "source": [
    "# check your answer\n",
    "howFar(centers,points) == [2, 2, 2, 0, 1, 0, 2, 1]\n",
    "calculateCenters(points,assignments) == pd.DataFrame([(6.475, 13.315), (3.495, 3.575), (10.5225, 4.789999999999999)])"
   ]
  },
  {
   "cell_type": "markdown",
   "metadata": {},
   "source": [
    "# 3. Hierarchical Agglomeretive Clustering\n",
    "\n",
    "In Hierarchical Agglomeretive Clustering, we progressively merge clusters together by determining which two clusters are the closest/most similar. We learned about a few different types of linkage criteria. Write three functions: single(cluster1, cluster2), complete(cluster1, cluster2), and average(cluster1, cluster2) that compute and return the distance between two clusters using single, complete, and average linkage respectively. Assume you're using euclidean distance for all 3 functions.\n",
    "- Single Linkage: smallest distance between two points (one from cluster1, one from cluster2)\n",
    "\n",
    "- Complete Linkage: largest distance between two points (one from cluster1, one from cluster2)\n",
    "\n",
    "- Average Linkage: average distance between all pairs of two points (one from cluster1, one from cluster2)\n",
    "\n",
    "See below for an example of what cluster1 and cluster2 will look like (each row is a data point. but assume they can have any number of data points)."
   ]
  },
  {
   "cell_type": "code",
   "execution_count": 9,
   "metadata": {},
   "outputs": [
    {
     "data": {
      "text/html": [
       "<div>\n",
       "<style scoped>\n",
       "    .dataframe tbody tr th:only-of-type {\n",
       "        vertical-align: middle;\n",
       "    }\n",
       "\n",
       "    .dataframe tbody tr th {\n",
       "        vertical-align: top;\n",
       "    }\n",
       "\n",
       "    .dataframe thead th {\n",
       "        text-align: right;\n",
       "    }\n",
       "</style>\n",
       "<table border=\"1\" class=\"dataframe\">\n",
       "  <thead>\n",
       "    <tr style=\"text-align: right;\">\n",
       "      <th></th>\n",
       "      <th>X</th>\n",
       "      <th>Y</th>\n",
       "    </tr>\n",
       "  </thead>\n",
       "  <tbody>\n",
       "    <tr>\n",
       "      <td>0</td>\n",
       "      <td>6.3</td>\n",
       "      <td>4.2</td>\n",
       "    </tr>\n",
       "    <tr>\n",
       "      <td>1</td>\n",
       "      <td>2.9</td>\n",
       "      <td>-0.9</td>\n",
       "    </tr>\n",
       "    <tr>\n",
       "      <td>2</td>\n",
       "      <td>1.1</td>\n",
       "      <td>-2.6</td>\n",
       "    </tr>\n",
       "    <tr>\n",
       "      <td>3</td>\n",
       "      <td>2.3</td>\n",
       "      <td>1.5</td>\n",
       "    </tr>\n",
       "    <tr>\n",
       "      <td>4</td>\n",
       "      <td>1.9</td>\n",
       "      <td>-1.0</td>\n",
       "    </tr>\n",
       "  </tbody>\n",
       "</table>\n",
       "</div>"
      ],
      "text/plain": [
       "     X    Y\n",
       "0  6.3  4.2\n",
       "1  2.9 -0.9\n",
       "2  1.1 -2.6\n",
       "3  2.3  1.5\n",
       "4  1.9 -1.0"
      ]
     },
     "execution_count": 9,
     "metadata": {},
     "output_type": "execute_result"
    }
   ],
   "source": [
    "cluster1 = pd.DataFrame({\"X\": [6.3,2.9,1.1,2.3,1.9],\n",
    "                        \"Y\": [4.2,-0.9,-2.6,1.5,-1]})\n",
    "cluster2 = pd.DataFrame({\"X\": [-1.2,-2.8,1.4,-2,-1.9],\n",
    "                        \"Y\": [-1.5,1.9,0.9,-0.3,1.5]})"
   ]
  },
  {
   "cell_type": "code",
   "execution_count": 39,
   "metadata": {},
   "outputs": [],
   "source": [
    "def single (df1, df2):\n",
    "    dist_list = []\n",
    "    for i in range(len(df1)):\n",
    "        point1 = df1.loc[i, : ]\n",
    "        x1 = point1[0]\n",
    "        y1 = point1[1]\n",
    "        for int in range(len(df2)):\n",
    "            point2 = df2.loc[int, : ]\n",
    "            x2 = point2[0]\n",
    "            y2 = point2[1]\n",
    "            dist = np.sqrt((x1 - x2)*(x1 - x2) + (y1 - y2)*(y1 - y2))\n",
    "            dist_list.append(dist)\n",
    "    dist_list = np.array(dist_list)\n",
    "    location = np.where(dist_list == np.amin(dist_list))\n",
    "    best_dist = dist_list[location]\n",
    "    return best_dist"
   ]
  },
  {
   "cell_type": "code",
   "execution_count": 40,
   "metadata": {},
   "outputs": [
    {
     "name": "stdout",
     "output_type": "stream",
     "text": [
      "[1.08166538]\n"
     ]
    }
   ],
   "source": [
    "a = single(cluster1,cluster2)\n",
    "print(a)"
   ]
  },
  {
   "cell_type": "code",
   "execution_count": 41,
   "metadata": {},
   "outputs": [],
   "source": [
    "def complete (df1, df2):\n",
    "    dist_list = []\n",
    "    for i in range(len(df1)):\n",
    "        point1 = df1.loc[i, : ]\n",
    "        x1 = point1[0]\n",
    "        y1 = point1[1]\n",
    "        for int in range(len(df2)):\n",
    "            point2 = df2.loc[int, : ]\n",
    "            x2 = point2[0]\n",
    "            y2 = point2[1]\n",
    "            dist = np.sqrt((x1 - x2)*(x1 - x2) + (y1 - y2)*(y1 - y2))\n",
    "            dist_list.append(dist)\n",
    "    dist_list = np.array(dist_list)\n",
    "    location = np.where(dist_list == np.amax(dist_list))\n",
    "    best_dist = dist_list[location]\n",
    "    return best_dist"
   ]
  },
  {
   "cell_type": "code",
   "execution_count": 42,
   "metadata": {},
   "outputs": [
    {
     "name": "stdout",
     "output_type": "stream",
     "text": [
      "[9.4413982]\n"
     ]
    }
   ],
   "source": [
    "b = complete(cluster1,cluster2)\n",
    "print(b)"
   ]
  },
  {
   "cell_type": "code",
   "execution_count": 49,
   "metadata": {},
   "outputs": [],
   "source": [
    "def average (df1, df2):\n",
    "    dist_list = []\n",
    "    for i in range(len(df1)):\n",
    "        point1 = df1.loc[i, : ]\n",
    "        x1 = point1[0]\n",
    "        y1 = point1[1]\n",
    "        for int in range(len(df2)):\n",
    "            point2 = df2.loc[int, : ]\n",
    "            x2 = point2[0]\n",
    "            y2 = point2[1]\n",
    "            dist = np.sqrt((x1 - x2)*(x1 - x2) + (y1 - y2)*(y1 - y2))\n",
    "            dist_list.append(dist)\n",
    "    dist_list = np.array(dist_list)\n",
    "    best_dist = dist_list.mean()\n",
    "    return best_dist"
   ]
  },
  {
   "cell_type": "code",
   "execution_count": 50,
   "metadata": {},
   "outputs": [
    {
     "name": "stdout",
     "output_type": "stream",
     "text": [
      "5.027741968109063\n"
     ]
    }
   ],
   "source": [
    "c = average(cluster1,cluster2)\n",
    "print(c)"
   ]
  }
 ],
 "metadata": {
  "kernelspec": {
   "display_name": "Python 3",
   "language": "python",
   "name": "python3"
  },
  "language_info": {
   "codemirror_mode": {
    "name": "ipython",
    "version": 3
   },
   "file_extension": ".py",
   "mimetype": "text/x-python",
   "name": "python",
   "nbconvert_exporter": "python",
   "pygments_lexer": "ipython3",
   "version": "3.7.4"
  }
 },
 "nbformat": 4,
 "nbformat_minor": 2
}
